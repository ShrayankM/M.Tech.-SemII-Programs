{
  "nbformat": 4,
  "nbformat_minor": 0,
  "metadata": {
    "colab": {
      "name": "ML_A1.ipynb",
      "provenance": [],
      "toc_visible": true
    },
    "kernelspec": {
      "name": "python3",
      "display_name": "Python 3"
    },
    "language_info": {
      "name": "python"
    }
  },
  "cells": [
    {
      "cell_type": "markdown",
      "metadata": {
        "id": "rL5Euu2BSvFY"
      },
      "source": [
        "#Take any benchmark dataset (both numeric and text) and apply preprocessing techniques on it."
      ]
    },
    {
      "cell_type": "markdown",
      "metadata": {
        "id": "sSbT55qVTEhh"
      },
      "source": [
        "## Packages (Setup)"
      ]
    },
    {
      "cell_type": "code",
      "metadata": {
        "id": "oR3kntcBSpdB"
      },
      "source": [
        "import pandas as pd\n",
        "import numpy as np\n",
        "import matplotlib.pyplot as plt\n",
        "import seaborn as sns"
      ],
      "execution_count": null,
      "outputs": []
    },
    {
      "cell_type": "code",
      "metadata": {
        "colab": {
          "base_uri": "https://localhost:8080/"
        },
        "id": "YV0ORwXEouad",
        "outputId": "229fde66-6816-489b-a33b-bd788929c4c7"
      },
      "source": [
        "earlwood_data = pd.read_excel('Earlwood_Air_Data_17_18.xls')\n",
        "earlwood_data.info()"
      ],
      "execution_count": null,
      "outputs": [
        {
          "output_type": "stream",
          "text": [
            "<class 'pandas.core.frame.DataFrame'>\n",
            "RangeIndex: 8784 entries, 0 to 8783\n",
            "Data columns (total 15 columns):\n",
            " #   Column                                    Non-Null Count  Dtype  \n",
            "---  ------                                    --------------  -----  \n",
            " 0   Date                                      8784 non-null   object \n",
            " 1   Time                                      8784 non-null   object \n",
            " 2   EARLWOOD WDR 1h average [°]               8759 non-null   float64\n",
            " 3   EARLWOOD TEMP 1h average [°C]             8761 non-null   float64\n",
            " 4   EARLWOOD WSP 1h average [m/s]             8759 non-null   float64\n",
            " 5   EARLWOOD NO 1h average [pphm]             8295 non-null   float64\n",
            " 6   EARLWOOD NO2 1h average [pphm]            8295 non-null   float64\n",
            " 7   EARLWOOD CO 1h average [ppm]              0 non-null      float64\n",
            " 8   EARLWOOD OZONE 1h average [pphm]          7918 non-null   float64\n",
            " 9   EARLWOOD OZONE 4h rolling average [pphm]  8216 non-null   float64\n",
            " 10  EARLWOOD PM10 1h average [µg/m³]          8692 non-null   float64\n",
            " 11  EARLWOOD PM2.5 1h average [µg/m³]         8614 non-null   float64\n",
            " 12  EARLWOOD HUMID 1h average [%]             8762 non-null   float64\n",
            " 13  EARLWOOD SD1 1h average [°]               8759 non-null   float64\n",
            " 14  EARLWOOD CO 8h rolling average [ppm]      0 non-null      float64\n",
            "dtypes: float64(13), object(2)\n",
            "memory usage: 1.0+ MB\n"
          ],
          "name": "stdout"
        }
      ]
    },
    {
      "cell_type": "markdown",
      "metadata": {
        "id": "GeGnPVjwV5Uq"
      },
      "source": [
        "# Dropping unnecessary columns from dataset"
      ]
    },
    {
      "cell_type": "code",
      "metadata": {
        "id": "AFhpqFbOpMqm"
      },
      "source": [
        "cols = ['EARLWOOD CO 8h rolling average [ppm]', 'EARLWOOD CO 1h average [ppm]']\n",
        "earlwood_data.drop(columns = cols, axis = 1, inplace = True)"
      ],
      "execution_count": null,
      "outputs": []
    },
    {
      "cell_type": "markdown",
      "metadata": {
        "id": "RXYNr3UfVh8o"
      },
      "source": [
        "# Step 1: Taking Care of the Missing Values"
      ]
    },
    {
      "cell_type": "code",
      "metadata": {
        "colab": {
          "base_uri": "https://localhost:8080/"
        },
        "id": "KLV8ekyxe7a0",
        "outputId": "27f8b53b-25bb-4811-fbf9-b3d464aa7f4d"
      },
      "source": [
        "earlwood_data.isna().sum()"
      ],
      "execution_count": null,
      "outputs": [
        {
          "output_type": "execute_result",
          "data": {
            "text/plain": [
              "Date                                          0\n",
              "Time                                          0\n",
              "EARLWOOD WDR 1h average [°]                  25\n",
              "EARLWOOD TEMP 1h average [°C]                23\n",
              "EARLWOOD WSP 1h average [m/s]                25\n",
              "EARLWOOD NO 1h average [pphm]               489\n",
              "EARLWOOD NO2 1h average [pphm]              489\n",
              "EARLWOOD OZONE 1h average [pphm]            866\n",
              "EARLWOOD OZONE 4h rolling average [pphm]    568\n",
              "EARLWOOD PM10 1h average [µg/m³]             92\n",
              "EARLWOOD PM2.5 1h average [µg/m³]           170\n",
              "EARLWOOD HUMID 1h average [%]                22\n",
              "EARLWOOD SD1 1h average [°]                  25\n",
              "dtype: int64"
            ]
          },
          "metadata": {},
          "execution_count": 324
        }
      ]
    },
    {
      "cell_type": "markdown",
      "metadata": {
        "id": "mxxDxEewqBi4"
      },
      "source": [
        "## 1. Drop all Nan"
      ]
    },
    {
      "cell_type": "code",
      "metadata": {
        "id": "wyBR-Oi1pp0r"
      },
      "source": [
        "earlwood_dropNAN = earlwood_data.dropna()"
      ],
      "execution_count": null,
      "outputs": []
    },
    {
      "cell_type": "code",
      "metadata": {
        "colab": {
          "base_uri": "https://localhost:8080/"
        },
        "id": "JpkXPPJuqHT4",
        "outputId": "79521376-a503-4710-f53e-a67f3321770e"
      },
      "source": [
        "earlwood_dropNAN.info()"
      ],
      "execution_count": null,
      "outputs": [
        {
          "output_type": "stream",
          "text": [
            "<class 'pandas.core.frame.DataFrame'>\n",
            "Int64Index: 7670 entries, 0 to 8783\n",
            "Data columns (total 13 columns):\n",
            " #   Column                                    Non-Null Count  Dtype  \n",
            "---  ------                                    --------------  -----  \n",
            " 0   Date                                      7670 non-null   object \n",
            " 1   Time                                      7670 non-null   object \n",
            " 2   EARLWOOD WDR 1h average [°]               7670 non-null   float64\n",
            " 3   EARLWOOD TEMP 1h average [°C]             7670 non-null   float64\n",
            " 4   EARLWOOD WSP 1h average [m/s]             7670 non-null   float64\n",
            " 5   EARLWOOD NO 1h average [pphm]             7670 non-null   float64\n",
            " 6   EARLWOOD NO2 1h average [pphm]            7670 non-null   float64\n",
            " 7   EARLWOOD OZONE 1h average [pphm]          7670 non-null   float64\n",
            " 8   EARLWOOD OZONE 4h rolling average [pphm]  7670 non-null   float64\n",
            " 9   EARLWOOD PM10 1h average [µg/m³]          7670 non-null   float64\n",
            " 10  EARLWOOD PM2.5 1h average [µg/m³]         7670 non-null   float64\n",
            " 11  EARLWOOD HUMID 1h average [%]             7670 non-null   float64\n",
            " 12  EARLWOOD SD1 1h average [°]               7670 non-null   float64\n",
            "dtypes: float64(11), object(2)\n",
            "memory usage: 838.9+ KB\n"
          ],
          "name": "stdout"
        }
      ]
    },
    {
      "cell_type": "markdown",
      "metadata": {
        "id": "knlqjxSrqQjc"
      },
      "source": [
        "## 2. Fill missing with mean"
      ]
    },
    {
      "cell_type": "code",
      "metadata": {
        "id": "I67fpYU7q94b"
      },
      "source": [
        "date_time = ['Date', 'Time']\n",
        "dateTimedf = earlwood_data[['Date', 'Time']]"
      ],
      "execution_count": null,
      "outputs": []
    },
    {
      "cell_type": "code",
      "metadata": {
        "id": "ZCOveTY8rf01"
      },
      "source": [
        "earlwood_data.drop(columns = date_time, axis = 1, inplace = True)"
      ],
      "execution_count": null,
      "outputs": []
    },
    {
      "cell_type": "code",
      "metadata": {
        "id": "B3688F9UqIXr"
      },
      "source": [
        "from sklearn.impute import SimpleImputer\n",
        "imputer = SimpleImputer(fill_value=np.nan, strategy='mean')\n",
        "cols  = earlwood_data.columns\n",
        "earlwood_data = pd.DataFrame(imputer.fit_transform(earlwood_data), columns = cols)"
      ],
      "execution_count": null,
      "outputs": []
    },
    {
      "cell_type": "code",
      "metadata": {
        "id": "E9_6Oehwq2Kj"
      },
      "source": [
        "earlwood_data[date_time] = dateTimedf"
      ],
      "execution_count": null,
      "outputs": []
    },
    {
      "cell_type": "code",
      "metadata": {
        "colab": {
          "base_uri": "https://localhost:8080/",
          "height": 288
        },
        "id": "yZGnYiKCrn5b",
        "outputId": "42a5be34-5821-4236-e7ea-49387b60f3da"
      },
      "source": [
        "earlwood_data.head(5)"
      ],
      "execution_count": null,
      "outputs": [
        {
          "output_type": "execute_result",
          "data": {
            "text/html": [
              "<div>\n",
              "<style scoped>\n",
              "    .dataframe tbody tr th:only-of-type {\n",
              "        vertical-align: middle;\n",
              "    }\n",
              "\n",
              "    .dataframe tbody tr th {\n",
              "        vertical-align: top;\n",
              "    }\n",
              "\n",
              "    .dataframe thead th {\n",
              "        text-align: right;\n",
              "    }\n",
              "</style>\n",
              "<table border=\"1\" class=\"dataframe\">\n",
              "  <thead>\n",
              "    <tr style=\"text-align: right;\">\n",
              "      <th></th>\n",
              "      <th>EARLWOOD WDR 1h average [°]</th>\n",
              "      <th>EARLWOOD TEMP 1h average [°C]</th>\n",
              "      <th>EARLWOOD WSP 1h average [m/s]</th>\n",
              "      <th>EARLWOOD NO 1h average [pphm]</th>\n",
              "      <th>EARLWOOD NO2 1h average [pphm]</th>\n",
              "      <th>EARLWOOD OZONE 1h average [pphm]</th>\n",
              "      <th>EARLWOOD OZONE 4h rolling average [pphm]</th>\n",
              "      <th>EARLWOOD PM10 1h average [µg/m³]</th>\n",
              "      <th>EARLWOOD PM2.5 1h average [µg/m³]</th>\n",
              "      <th>EARLWOOD HUMID 1h average [%]</th>\n",
              "      <th>EARLWOOD SD1 1h average [°]</th>\n",
              "      <th>Date</th>\n",
              "      <th>Time</th>\n",
              "    </tr>\n",
              "  </thead>\n",
              "  <tbody>\n",
              "    <tr>\n",
              "      <th>0</th>\n",
              "      <td>152.3</td>\n",
              "      <td>22.6</td>\n",
              "      <td>0.4</td>\n",
              "      <td>0.000000</td>\n",
              "      <td>0.400000</td>\n",
              "      <td>2.000000</td>\n",
              "      <td>2.1</td>\n",
              "      <td>23.6</td>\n",
              "      <td>7.0</td>\n",
              "      <td>87.2</td>\n",
              "      <td>49.01</td>\n",
              "      <td>01/01/2017</td>\n",
              "      <td>01:00</td>\n",
              "    </tr>\n",
              "    <tr>\n",
              "      <th>1</th>\n",
              "      <td>134.0</td>\n",
              "      <td>22.6</td>\n",
              "      <td>0.3</td>\n",
              "      <td>1.288005</td>\n",
              "      <td>1.080325</td>\n",
              "      <td>1.633215</td>\n",
              "      <td>2.2</td>\n",
              "      <td>21.0</td>\n",
              "      <td>6.6</td>\n",
              "      <td>87.2</td>\n",
              "      <td>46.56</td>\n",
              "      <td>01/01/2017</td>\n",
              "      <td>02:00</td>\n",
              "    </tr>\n",
              "    <tr>\n",
              "      <th>2</th>\n",
              "      <td>132.2</td>\n",
              "      <td>22.6</td>\n",
              "      <td>0.3</td>\n",
              "      <td>0.000000</td>\n",
              "      <td>0.600000</td>\n",
              "      <td>1.700000</td>\n",
              "      <td>2.0</td>\n",
              "      <td>20.0</td>\n",
              "      <td>7.2</td>\n",
              "      <td>87.0</td>\n",
              "      <td>47.40</td>\n",
              "      <td>01/01/2017</td>\n",
              "      <td>03:00</td>\n",
              "    </tr>\n",
              "    <tr>\n",
              "      <th>3</th>\n",
              "      <td>125.8</td>\n",
              "      <td>22.7</td>\n",
              "      <td>0.2</td>\n",
              "      <td>0.000000</td>\n",
              "      <td>0.500000</td>\n",
              "      <td>1.700000</td>\n",
              "      <td>1.8</td>\n",
              "      <td>21.4</td>\n",
              "      <td>7.1</td>\n",
              "      <td>87.2</td>\n",
              "      <td>53.70</td>\n",
              "      <td>01/01/2017</td>\n",
              "      <td>04:00</td>\n",
              "    </tr>\n",
              "    <tr>\n",
              "      <th>4</th>\n",
              "      <td>107.9</td>\n",
              "      <td>22.8</td>\n",
              "      <td>0.6</td>\n",
              "      <td>0.000000</td>\n",
              "      <td>0.300000</td>\n",
              "      <td>2.100000</td>\n",
              "      <td>1.8</td>\n",
              "      <td>21.5</td>\n",
              "      <td>4.3</td>\n",
              "      <td>86.8</td>\n",
              "      <td>41.65</td>\n",
              "      <td>01/01/2017</td>\n",
              "      <td>05:00</td>\n",
              "    </tr>\n",
              "  </tbody>\n",
              "</table>\n",
              "</div>"
            ],
            "text/plain": [
              "   EARLWOOD WDR 1h average [°]  ...   Time\n",
              "0                        152.3  ...  01:00\n",
              "1                        134.0  ...  02:00\n",
              "2                        132.2  ...  03:00\n",
              "3                        125.8  ...  04:00\n",
              "4                        107.9  ...  05:00\n",
              "\n",
              "[5 rows x 13 columns]"
            ]
          },
          "metadata": {},
          "execution_count": 331
        }
      ]
    },
    {
      "cell_type": "markdown",
      "metadata": {
        "id": "JXZ7IDZmsNdL"
      },
      "source": [
        "# Step 2: Splitting data into Train and Test set"
      ]
    },
    {
      "cell_type": "code",
      "metadata": {
        "id": "sBZGBgeVsC6e"
      },
      "source": [
        "y_cols = ['EARLWOOD NO 1h average [pphm]', 'EARLWOOD NO2 1h average [pphm]', \n",
        "          'EARLWOOD PM10 1h average [µg/m³]', 'EARLWOOD PM2.5 1h average [µg/m³]']\n",
        "Y = earlwood_data[y_cols]"
      ],
      "execution_count": null,
      "outputs": []
    },
    {
      "cell_type": "code",
      "metadata": {
        "id": "HNHJ0LP2s0FX"
      },
      "source": [
        "X = earlwood_data.drop(columns = y_cols, axis = 1)"
      ],
      "execution_count": null,
      "outputs": []
    },
    {
      "cell_type": "code",
      "metadata": {
        "id": "nH_7AoOTs6ZQ"
      },
      "source": [
        "from sklearn.model_selection import train_test_split\n",
        "X_train, X_test, Y_train, Y_test = train_test_split(X, Y, test_size = 0.3)"
      ],
      "execution_count": null,
      "outputs": []
    },
    {
      "cell_type": "code",
      "metadata": {
        "colab": {
          "base_uri": "https://localhost:8080/"
        },
        "id": "1JKKHPijtGzB",
        "outputId": "de79fe45-f255-4d96-fcd2-3c907dc350f7"
      },
      "source": [
        "print(f\"Dimensions of training, testing data (x) = {X_train.shape}, {X_test.shape}\")"
      ],
      "execution_count": null,
      "outputs": [
        {
          "output_type": "stream",
          "text": [
            "Dimensions of training, testing data (x) = (6148, 9), (2636, 9)\n"
          ],
          "name": "stdout"
        }
      ]
    },
    {
      "cell_type": "code",
      "metadata": {
        "colab": {
          "base_uri": "https://localhost:8080/"
        },
        "id": "SO4jpWS7tJga",
        "outputId": "f429e7ed-3d3a-4fe1-b96a-63ba5713376d"
      },
      "source": [
        "print(f\"Dimensions of training, testing data (y) = {Y_train.shape}, {Y_test.shape}\")"
      ],
      "execution_count": null,
      "outputs": [
        {
          "output_type": "stream",
          "text": [
            "Dimensions of training, testing data (y) = (6148, 4), (2636, 4)\n"
          ],
          "name": "stdout"
        }
      ]
    },
    {
      "cell_type": "markdown",
      "metadata": {
        "id": "vEx6u-h8upqC"
      },
      "source": [
        "# Step 3: Normalizing Data"
      ]
    },
    {
      "cell_type": "code",
      "metadata": {
        "id": "QR7kaEWttaP9"
      },
      "source": [
        "earlwood_data.drop(columns = date_time, axis = 1, inplace = True)\n",
        "cols  = earlwood_data.columns"
      ],
      "execution_count": null,
      "outputs": []
    },
    {
      "cell_type": "code",
      "metadata": {
        "id": "seWrtLrZvh2M"
      },
      "source": [
        "from sklearn.preprocessing import Normalizer\n",
        "norm = Normalizer()\n",
        "\n",
        "earlwood_data = pd.DataFrame(norm.fit_transform(earlwood_data), columns = cols)"
      ],
      "execution_count": null,
      "outputs": []
    },
    {
      "cell_type": "code",
      "metadata": {
        "colab": {
          "base_uri": "https://localhost:8080/",
          "height": 481
        },
        "id": "V75lktDgv19g",
        "outputId": "bec3bd29-d2ca-44d5-b8ee-a30f931c26e0"
      },
      "source": [
        "earlwood_data"
      ],
      "execution_count": null,
      "outputs": [
        {
          "output_type": "execute_result",
          "data": {
            "text/html": [
              "<div>\n",
              "<style scoped>\n",
              "    .dataframe tbody tr th:only-of-type {\n",
              "        vertical-align: middle;\n",
              "    }\n",
              "\n",
              "    .dataframe tbody tr th {\n",
              "        vertical-align: top;\n",
              "    }\n",
              "\n",
              "    .dataframe thead th {\n",
              "        text-align: right;\n",
              "    }\n",
              "</style>\n",
              "<table border=\"1\" class=\"dataframe\">\n",
              "  <thead>\n",
              "    <tr style=\"text-align: right;\">\n",
              "      <th></th>\n",
              "      <th>EARLWOOD WDR 1h average [°]</th>\n",
              "      <th>EARLWOOD TEMP 1h average [°C]</th>\n",
              "      <th>EARLWOOD WSP 1h average [m/s]</th>\n",
              "      <th>EARLWOOD NO 1h average [pphm]</th>\n",
              "      <th>EARLWOOD NO2 1h average [pphm]</th>\n",
              "      <th>EARLWOOD OZONE 1h average [pphm]</th>\n",
              "      <th>EARLWOOD OZONE 4h rolling average [pphm]</th>\n",
              "      <th>EARLWOOD PM10 1h average [µg/m³]</th>\n",
              "      <th>EARLWOOD PM2.5 1h average [µg/m³]</th>\n",
              "      <th>EARLWOOD HUMID 1h average [%]</th>\n",
              "      <th>EARLWOOD SD1 1h average [°]</th>\n",
              "    </tr>\n",
              "  </thead>\n",
              "  <tbody>\n",
              "    <tr>\n",
              "      <th>0</th>\n",
              "      <td>0.822024</td>\n",
              "      <td>0.121981</td>\n",
              "      <td>0.002159</td>\n",
              "      <td>0.000000</td>\n",
              "      <td>0.002159</td>\n",
              "      <td>0.010795</td>\n",
              "      <td>0.011335</td>\n",
              "      <td>0.127379</td>\n",
              "      <td>0.037782</td>\n",
              "      <td>0.470654</td>\n",
              "      <td>0.264527</td>\n",
              "    </tr>\n",
              "    <tr>\n",
              "      <th>1</th>\n",
              "      <td>0.790517</td>\n",
              "      <td>0.133326</td>\n",
              "      <td>0.001770</td>\n",
              "      <td>0.007598</td>\n",
              "      <td>0.006373</td>\n",
              "      <td>0.009635</td>\n",
              "      <td>0.012979</td>\n",
              "      <td>0.123887</td>\n",
              "      <td>0.038936</td>\n",
              "      <td>0.514426</td>\n",
              "      <td>0.274675</td>\n",
              "    </tr>\n",
              "    <tr>\n",
              "      <th>2</th>\n",
              "      <td>0.786368</td>\n",
              "      <td>0.134432</td>\n",
              "      <td>0.001784</td>\n",
              "      <td>0.000000</td>\n",
              "      <td>0.003569</td>\n",
              "      <td>0.010112</td>\n",
              "      <td>0.011897</td>\n",
              "      <td>0.118966</td>\n",
              "      <td>0.042828</td>\n",
              "      <td>0.517504</td>\n",
              "      <td>0.281950</td>\n",
              "    </tr>\n",
              "    <tr>\n",
              "      <th>3</th>\n",
              "      <td>0.760774</td>\n",
              "      <td>0.137278</td>\n",
              "      <td>0.001209</td>\n",
              "      <td>0.000000</td>\n",
              "      <td>0.003024</td>\n",
              "      <td>0.010281</td>\n",
              "      <td>0.010885</td>\n",
              "      <td>0.129416</td>\n",
              "      <td>0.042937</td>\n",
              "      <td>0.527341</td>\n",
              "      <td>0.324750</td>\n",
              "    </tr>\n",
              "    <tr>\n",
              "      <th>4</th>\n",
              "      <td>0.728787</td>\n",
              "      <td>0.153998</td>\n",
              "      <td>0.004053</td>\n",
              "      <td>0.000000</td>\n",
              "      <td>0.002026</td>\n",
              "      <td>0.014184</td>\n",
              "      <td>0.012158</td>\n",
              "      <td>0.145217</td>\n",
              "      <td>0.029043</td>\n",
              "      <td>0.586272</td>\n",
              "      <td>0.281316</td>\n",
              "    </tr>\n",
              "    <tr>\n",
              "      <th>...</th>\n",
              "      <td>...</td>\n",
              "      <td>...</td>\n",
              "      <td>...</td>\n",
              "      <td>...</td>\n",
              "      <td>...</td>\n",
              "      <td>...</td>\n",
              "      <td>...</td>\n",
              "      <td>...</td>\n",
              "      <td>...</td>\n",
              "      <td>...</td>\n",
              "      <td>...</td>\n",
              "    </tr>\n",
              "    <tr>\n",
              "      <th>8779</th>\n",
              "      <td>0.858272</td>\n",
              "      <td>0.119783</td>\n",
              "      <td>0.004687</td>\n",
              "      <td>0.000000</td>\n",
              "      <td>0.001042</td>\n",
              "      <td>0.015103</td>\n",
              "      <td>0.014582</td>\n",
              "      <td>0.123429</td>\n",
              "      <td>0.044268</td>\n",
              "      <td>0.409346</td>\n",
              "      <td>0.252586</td>\n",
              "    </tr>\n",
              "    <tr>\n",
              "      <th>8780</th>\n",
              "      <td>0.885786</td>\n",
              "      <td>0.111272</td>\n",
              "      <td>0.004880</td>\n",
              "      <td>0.000000</td>\n",
              "      <td>0.000488</td>\n",
              "      <td>0.014153</td>\n",
              "      <td>0.014153</td>\n",
              "      <td>0.090775</td>\n",
              "      <td>0.052708</td>\n",
              "      <td>0.381156</td>\n",
              "      <td>0.215126</td>\n",
              "    </tr>\n",
              "    <tr>\n",
              "      <th>8781</th>\n",
              "      <td>0.910589</td>\n",
              "      <td>0.105422</td>\n",
              "      <td>0.005064</td>\n",
              "      <td>0.000000</td>\n",
              "      <td>0.000460</td>\n",
              "      <td>0.013811</td>\n",
              "      <td>0.013350</td>\n",
              "      <td>0.066292</td>\n",
              "      <td>0.037749</td>\n",
              "      <td>0.349873</td>\n",
              "      <td>0.176317</td>\n",
              "    </tr>\n",
              "    <tr>\n",
              "      <th>8782</th>\n",
              "      <td>0.915757</td>\n",
              "      <td>0.102761</td>\n",
              "      <td>0.005002</td>\n",
              "      <td>0.000000</td>\n",
              "      <td>0.000455</td>\n",
              "      <td>0.013641</td>\n",
              "      <td>0.013641</td>\n",
              "      <td>0.061384</td>\n",
              "      <td>0.025008</td>\n",
              "      <td>0.342386</td>\n",
              "      <td>0.169738</td>\n",
              "    </tr>\n",
              "    <tr>\n",
              "      <th>8783</th>\n",
              "      <td>0.875674</td>\n",
              "      <td>0.099332</td>\n",
              "      <td>0.001373</td>\n",
              "      <td>0.000000</td>\n",
              "      <td>0.000458</td>\n",
              "      <td>0.012359</td>\n",
              "      <td>0.013275</td>\n",
              "      <td>0.061796</td>\n",
              "      <td>0.011901</td>\n",
              "      <td>0.362537</td>\n",
              "      <td>0.295980</td>\n",
              "    </tr>\n",
              "  </tbody>\n",
              "</table>\n",
              "<p>8784 rows × 11 columns</p>\n",
              "</div>"
            ],
            "text/plain": [
              "      EARLWOOD WDR 1h average [°]  ...  EARLWOOD SD1 1h average [°]\n",
              "0                        0.822024  ...                     0.264527\n",
              "1                        0.790517  ...                     0.274675\n",
              "2                        0.786368  ...                     0.281950\n",
              "3                        0.760774  ...                     0.324750\n",
              "4                        0.728787  ...                     0.281316\n",
              "...                           ...  ...                          ...\n",
              "8779                     0.858272  ...                     0.252586\n",
              "8780                     0.885786  ...                     0.215126\n",
              "8781                     0.910589  ...                     0.176317\n",
              "8782                     0.915757  ...                     0.169738\n",
              "8783                     0.875674  ...                     0.295980\n",
              "\n",
              "[8784 rows x 11 columns]"
            ]
          },
          "metadata": {},
          "execution_count": 339
        }
      ]
    },
    {
      "cell_type": "markdown",
      "metadata": {
        "id": "hLTljc7Vv_KO"
      },
      "source": [
        "# Step 4: OneHotEncoders"
      ]
    },
    {
      "cell_type": "code",
      "metadata": {
        "id": "NzV1BDdxv2-9"
      },
      "source": [
        "from sklearn.preprocessing import OneHotEncoder\n",
        "from sklearn.datasets import make_blobs\n",
        "import matplotlib.colors"
      ],
      "execution_count": null,
      "outputs": []
    },
    {
      "cell_type": "code",
      "metadata": {
        "colab": {
          "base_uri": "https://localhost:8080/"
        },
        "id": "swh2R4xVwldg",
        "outputId": "5c337924-1edb-4a29-f4eb-0bda72fd44e8"
      },
      "source": [
        "data, labels = make_blobs(n_samples = 1000, n_features = 2, centers = 4, random_state = 0)\n",
        "print(data.shape, labels.shape)"
      ],
      "execution_count": null,
      "outputs": [
        {
          "output_type": "stream",
          "text": [
            "(1000, 2) (1000,)\n"
          ],
          "name": "stdout"
        }
      ]
    },
    {
      "cell_type": "code",
      "metadata": {
        "id": "zMIqRSZAwwgN"
      },
      "source": [
        "cmap = matplotlib.colors.LinearSegmentedColormap.from_list(\"\", ['red', 'yellow', 'green'])\n",
        "np.random.seed(0)"
      ],
      "execution_count": null,
      "outputs": []
    },
    {
      "cell_type": "code",
      "metadata": {
        "colab": {
          "base_uri": "https://localhost:8080/",
          "height": 448
        },
        "id": "fj745p3-wpk5",
        "outputId": "c6eb178a-cb14-4dbc-f6f8-995de1861480"
      },
      "source": [
        "plt.figure(figsize = (6, 4), dpi = 125)\n",
        "plt.scatter(data[:, 0], data[:, 1], c = labels, cmap = cmap)\n",
        "plt.show()"
      ],
      "execution_count": null,
      "outputs": [
        {
          "output_type": "display_data",
          "data": {
            "image/png": "[encoded data removed]",
            "text/plain": [
              "<Figure size 750x500 with 1 Axes>"
            ]
          },
          "metadata": {
            "needs_background": "light"
          }
        }
      ]
    },
    {
      "cell_type": "code",
      "metadata": {
        "colab": {
          "base_uri": "https://localhost:8080/"
        },
        "id": "fv4VXCL1xJA-",
        "outputId": "a3d9eea9-4e21-4b04-e9ce-517ecdb761a7"
      },
      "source": [
        "X_train, X_test, Y_train, Y_test = train_test_split(data, labels, stratify=labels, random_state=0)\n",
        "print(X_train.shape, X_test.shape, labels.shape)"
      ],
      "execution_count": null,
      "outputs": [
        {
          "output_type": "stream",
          "text": [
            "(750, 2) (250, 2) (1000,)\n"
          ],
          "name": "stdout"
        }
      ]
    },
    {
      "cell_type": "code",
      "metadata": {
        "colab": {
          "base_uri": "https://localhost:8080/"
        },
        "id": "AtdlfNKcxPZg",
        "outputId": "fecaf235-b318-447f-9e81-25c3e61e00f0"
      },
      "source": [
        "Y_train[:20]"
      ],
      "execution_count": null,
      "outputs": [
        {
          "output_type": "execute_result",
          "data": {
            "text/plain": [
              "array([0, 3, 3, 2, 2, 0, 3, 2, 0, 1, 0, 3, 1, 3, 1, 2, 1, 0, 2, 2])"
            ]
          },
          "metadata": {},
          "execution_count": 354
        }
      ]
    },
    {
      "cell_type": "code",
      "metadata": {
        "id": "wLcJVKq2wtfR"
      },
      "source": [
        "enc = OneHotEncoder()\n",
        "Y_OH_train = enc.fit_transform(np.expand_dims(Y_train, axis = 1)).toarray()\n",
        "Y_OH_test  = enc.fit_transform(np.expand_dims(Y_test, axis = 1)).toarray()"
      ],
      "execution_count": null,
      "outputs": []
    },
    {
      "cell_type": "code",
      "metadata": {
        "id": "XLyJ32AYxjvG",
        "colab": {
          "base_uri": "https://localhost:8080/"
        },
        "outputId": "d89952cb-278b-450c-c255-5197a5b9cec9"
      },
      "source": [
        "Y_OH_train[:20]"
      ],
      "execution_count": null,
      "outputs": [
        {
          "output_type": "execute_result",
          "data": {
            "text/plain": [
              "array([[1., 0., 0., 0.],\n",
              "       [0., 0., 0., 1.],\n",
              "       [0., 0., 0., 1.],\n",
              "       [0., 0., 1., 0.],\n",
              "       [0., 0., 1., 0.],\n",
              "       [1., 0., 0., 0.],\n",
              "       [0., 0., 0., 1.],\n",
              "       [0., 0., 1., 0.],\n",
              "       [1., 0., 0., 0.],\n",
              "       [0., 1., 0., 0.],\n",
              "       [1., 0., 0., 0.],\n",
              "       [0., 0., 0., 1.],\n",
              "       [0., 1., 0., 0.],\n",
              "       [0., 0., 0., 1.],\n",
              "       [0., 1., 0., 0.],\n",
              "       [0., 0., 1., 0.],\n",
              "       [0., 1., 0., 0.],\n",
              "       [1., 0., 0., 0.],\n",
              "       [0., 0., 1., 0.],\n",
              "       [0., 0., 1., 0.]])"
            ]
          },
          "metadata": {},
          "execution_count": 357
        }
      ]
    },
    {
      "cell_type": "code",
      "metadata": {
        "id": "Ray4tL3TxlJ_"
      },
      "source": [
        ""
      ],
      "execution_count": null,
      "outputs": []
    }
  ]
}