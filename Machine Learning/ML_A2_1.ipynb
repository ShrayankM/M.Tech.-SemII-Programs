{
  "nbformat": 4,
  "nbformat_minor": 0,
  "metadata": {
    "colab": {
      "name": "ML_A2.1.ipynb",
      "provenance": [],
      "collapsed_sections": []
    },
    "kernelspec": {
      "name": "python3",
      "display_name": "Python 3"
    },
    "language_info": {
      "name": "python"
    }
  },
  "cells": [
    {
      "cell_type": "code",
      "metadata": {
        "id": "BcyxjNYBDvo9"
      },
      "source": [
        "import numpy as np\n",
        "import pandas as pd\n",
        "import seaborn as sns\n",
        "import matplotlib.pyplot as plt\n",
        "\n",
        "from sklearn.model_selection import train_test_split\n",
        "from sklearn.metrics import accuracy_score, mean_squared_error\n",
        "import math\n",
        "import copy"
      ],
      "execution_count": null,
      "outputs": []
    },
    {
      "cell_type": "markdown",
      "metadata": {
        "id": "T8Eii8XbEGa6"
      },
      "source": [
        "Decision Trees (DTs) are a non-parametric supervised learning method used for <b><i>classification</i></b> and <b><i>regression</i></b>. The goal is to create a model that predicts the value of a target variable by learning simple decision rules inferred from the data features. A tree can be seen as a piecewise constant approximation."
      ]
    },
    {
      "cell_type": "markdown",
      "metadata": {
        "id": "kuYsa7xRD-Ug"
      },
      "source": [
        "# Decision Tree Regression Problem"
      ]
    },
    {
      "cell_type": "markdown",
      "metadata": {
        "id": "T1nDeCc5EeMG"
      },
      "source": [
        "## Dataset\n",
        "<p>Boston house-prices dataset (regression) taken from sklearn.datasets</p>"
      ]
    },
    {
      "cell_type": "code",
      "metadata": {
        "id": "PPfdn17GD799"
      },
      "source": [
        "from sklearn.datasets import load_boston\n",
        "boston = load_boston()\n",
        "data, labels = boston.data, boston.target\n",
        "\n",
        "boston_df = pd.DataFrame(data, columns = boston.feature_names)\n",
        "boston_df['OUT'] = labels"
      ],
      "execution_count": null,
      "outputs": []
    },
    {
      "cell_type": "code",
      "metadata": {
        "colab": {
          "base_uri": "https://localhost:8080/",
          "height": 141
        },
        "id": "S0i90znTEzoH",
        "outputId": "cf2889c5-89b1-4dc0-c668-83005bea67d2"
      },
      "source": [
        "boston_df.head(3)"
      ],
      "execution_count": null,
      "outputs": [
        {
          "output_type": "execute_result",
          "data": {
            "text/html": [
              "<div>\n",
              "<style scoped>\n",
              "    .dataframe tbody tr th:only-of-type {\n",
              "        vertical-align: middle;\n",
              "    }\n",
              "\n",
              "    .dataframe tbody tr th {\n",
              "        vertical-align: top;\n",
              "    }\n",
              "\n",
              "    .dataframe thead th {\n",
              "        text-align: right;\n",
              "    }\n",
              "</style>\n",
              "<table border=\"1\" class=\"dataframe\">\n",
              "  <thead>\n",
              "    <tr style=\"text-align: right;\">\n",
              "      <th></th>\n",
              "      <th>CRIM</th>\n",
              "      <th>ZN</th>\n",
              "      <th>INDUS</th>\n",
              "      <th>CHAS</th>\n",
              "      <th>NOX</th>\n",
              "      <th>RM</th>\n",
              "      <th>AGE</th>\n",
              "      <th>DIS</th>\n",
              "      <th>RAD</th>\n",
              "      <th>TAX</th>\n",
              "      <th>PTRATIO</th>\n",
              "      <th>B</th>\n",
              "      <th>LSTAT</th>\n",
              "      <th>OUT</th>\n",
              "    </tr>\n",
              "  </thead>\n",
              "  <tbody>\n",
              "    <tr>\n",
              "      <th>0</th>\n",
              "      <td>0.00632</td>\n",
              "      <td>18.0</td>\n",
              "      <td>2.31</td>\n",
              "      <td>0.0</td>\n",
              "      <td>0.538</td>\n",
              "      <td>6.575</td>\n",
              "      <td>65.2</td>\n",
              "      <td>4.0900</td>\n",
              "      <td>1.0</td>\n",
              "      <td>296.0</td>\n",
              "      <td>15.3</td>\n",
              "      <td>396.90</td>\n",
              "      <td>4.98</td>\n",
              "      <td>24.0</td>\n",
              "    </tr>\n",
              "    <tr>\n",
              "      <th>1</th>\n",
              "      <td>0.02731</td>\n",
              "      <td>0.0</td>\n",
              "      <td>7.07</td>\n",
              "      <td>0.0</td>\n",
              "      <td>0.469</td>\n",
              "      <td>6.421</td>\n",
              "      <td>78.9</td>\n",
              "      <td>4.9671</td>\n",
              "      <td>2.0</td>\n",
              "      <td>242.0</td>\n",
              "      <td>17.8</td>\n",
              "      <td>396.90</td>\n",
              "      <td>9.14</td>\n",
              "      <td>21.6</td>\n",
              "    </tr>\n",
              "    <tr>\n",
              "      <th>2</th>\n",
              "      <td>0.02729</td>\n",
              "      <td>0.0</td>\n",
              "      <td>7.07</td>\n",
              "      <td>0.0</td>\n",
              "      <td>0.469</td>\n",
              "      <td>7.185</td>\n",
              "      <td>61.1</td>\n",
              "      <td>4.9671</td>\n",
              "      <td>2.0</td>\n",
              "      <td>242.0</td>\n",
              "      <td>17.8</td>\n",
              "      <td>392.83</td>\n",
              "      <td>4.03</td>\n",
              "      <td>34.7</td>\n",
              "    </tr>\n",
              "  </tbody>\n",
              "</table>\n",
              "</div>"
            ],
            "text/plain": [
              "      CRIM    ZN  INDUS  CHAS    NOX  ...    TAX  PTRATIO       B  LSTAT   OUT\n",
              "0  0.00632  18.0   2.31   0.0  0.538  ...  296.0     15.3  396.90   4.98  24.0\n",
              "1  0.02731   0.0   7.07   0.0  0.469  ...  242.0     17.8  396.90   9.14  21.6\n",
              "2  0.02729   0.0   7.07   0.0  0.469  ...  242.0     17.8  392.83   4.03  34.7\n",
              "\n",
              "[3 rows x 14 columns]"
            ]
          },
          "metadata": {},
          "execution_count": 227
        }
      ]
    },
    {
      "cell_type": "code",
      "metadata": {
        "colab": {
          "base_uri": "https://localhost:8080/"
        },
        "id": "le3VL0QKFg4_",
        "outputId": "41f7d2a4-11b2-4069-a55f-d4f4383f4943"
      },
      "source": [
        "x_train, x_val, y_train, y_val = train_test_split(data, labels, random_state = 0, test_size = 0.2)\n",
        "print(x_train.shape, y_train.shape)"
      ],
      "execution_count": null,
      "outputs": [
        {
          "output_type": "stream",
          "name": "stdout",
          "text": [
            "(404, 13) (404,)\n"
          ]
        }
      ]
    },
    {
      "cell_type": "markdown",
      "metadata": {
        "id": "_35B70uVF74K"
      },
      "source": [
        "## Model Building for various criterion\n",
        "\n",
        "<p> Criterion = (mean squared error - mse),</br> (friedman_mse - which uses mean squared error with Friedman’s improvement score),</br> (mae - for the mean absolute error, which minimizes the L1 loss using the median of each terminal node),</br> (poisson - which uses reduction in Poisson)</p>"
      ]
    },
    {
      "cell_type": "code",
      "metadata": {
        "id": "wHG34lW_Fmvb"
      },
      "source": [
        "from sklearn.tree import DecisionTreeRegressor"
      ],
      "execution_count": null,
      "outputs": []
    },
    {
      "cell_type": "markdown",
      "metadata": {
        "id": "Af1yIuJoHq6-"
      },
      "source": [
        "### Criterion loss and accuracy check"
      ]
    },
    {
      "cell_type": "code",
      "metadata": {
        "colab": {
          "base_uri": "https://localhost:8080/"
        },
        "id": "x35frCskHoFn",
        "outputId": "ffe632a3-7486-4dc1-b0cc-1c90a87bd9b9"
      },
      "source": [
        "criteria = [\"mse\", \"friedman_mse\", \"mae\"]\n",
        "\n",
        "for c in criteria:\n",
        "    lt = []\n",
        "    lv = []\n",
        "\n",
        "    print(f\"Criterion = {c}\")\n",
        "    for md in range(1, 6):\n",
        "        model = DecisionTreeRegressor(criterion = c, max_depth = md, random_state = 0)\n",
        "        model = model.fit(x_train, y_train)\n",
        "        y_ptrain = model.predict(x_train)\n",
        "        y_pval  = model.predict(x_val)\n",
        "\n",
        "        lt = mean_squared_error(y_train, y_ptrain)\n",
        "        lv = mean_squared_error(y_val, y_pval)\n",
        "\n",
        "        print(f\"Depth = {md}, Loss Train = {round(lt, 2)}, Loss Validation = {round(lv, 2)}\")\n",
        "    print()"
      ],
      "execution_count": null,
      "outputs": [
        {
          "output_type": "stream",
          "name": "stdout",
          "text": [
            "Criterion = mse\n",
            "Depth = 1, Loss Train = 44.83, Loss Validation = 61.38\n",
            "Depth = 2, Loss Train = 23.27, Loss Validation = 35.41\n",
            "Depth = 3, Loss Train = 14.55, Loss Validation = 33.41\n",
            "Depth = 4, Loss Train = 9.02, Loss Validation = 35.88\n",
            "Depth = 5, Loss Train = 5.9, Loss Validation = 32.04\n",
            "\n",
            "Criterion = friedman_mse\n",
            "Depth = 1, Loss Train = 44.83, Loss Validation = 61.38\n",
            "Depth = 2, Loss Train = 23.27, Loss Validation = 35.41\n",
            "Depth = 3, Loss Train = 14.55, Loss Validation = 33.41\n",
            "Depth = 4, Loss Train = 9.02, Loss Validation = 35.88\n",
            "Depth = 5, Loss Train = 5.9, Loss Validation = 30.26\n",
            "\n",
            "Criterion = mae\n",
            "Depth = 1, Loss Train = 46.56, Loss Validation = 50.27\n",
            "Depth = 2, Loss Train = 25.46, Loss Validation = 31.39\n",
            "Depth = 3, Loss Train = 17.2, Loss Validation = 31.8\n",
            "Depth = 4, Loss Train = 9.53, Loss Validation = 33.88\n",
            "Depth = 5, Loss Train = 5.36, Loss Validation = 32.0\n",
            "\n"
          ]
        }
      ]
    },
    {
      "cell_type": "markdown",
      "metadata": {
        "id": "dcQsTy8wOng6"
      },
      "source": [
        "## Checking with other Algorithms\n",
        "1. Linear Regression\n",
        "2. Ridge\n",
        "3. Lasso\n",
        "4. GradientBoostingRegressor"
      ]
    },
    {
      "cell_type": "code",
      "metadata": {
        "colab": {
          "base_uri": "https://localhost:8080/"
        },
        "id": "lYg2ASS5JGjQ",
        "outputId": "fc5b7b5b-ea61-47b1-c7dc-1c679519d936"
      },
      "source": [
        "from sklearn.linear_model import LinearRegression\n",
        "linear_model = LinearRegression()\n",
        "linear_model.fit(x_train, y_train)\n",
        "\n",
        "y_ptrain = linear_model.predict(x_train)\n",
        "y_pval  = linear_model.predict(x_val)\n",
        "\n",
        "lt = mean_squared_error(y_train, y_ptrain)\n",
        "lv = mean_squared_error(y_val, y_pval)\n",
        "\n",
        "print(f\"Loss Train = {round(lt, 2)}, Loss Validation = {round(lv, 2)}\")"
      ],
      "execution_count": null,
      "outputs": [
        {
          "output_type": "stream",
          "name": "stdout",
          "text": [
            "Loss Train = 19.33, Loss Validation = 33.45\n"
          ]
        }
      ]
    },
    {
      "cell_type": "code",
      "metadata": {
        "colab": {
          "base_uri": "https://localhost:8080/"
        },
        "id": "mae9KfIKOuWY",
        "outputId": "d44f512d-8afe-4cb2-f38c-fbccc378845b"
      },
      "source": [
        "from sklearn.linear_model import Ridge\n",
        "linear_model = Ridge()\n",
        "linear_model.fit(x_train, y_train)\n",
        "\n",
        "y_ptrain = linear_model.predict(x_train)\n",
        "y_pval  = linear_model.predict(x_val)\n",
        "\n",
        "lt = mean_squared_error(y_train, y_ptrain)\n",
        "lv = mean_squared_error(y_val, y_pval)\n",
        "\n",
        "print(f\"Loss Train = {round(lt, 2)}, Loss Validation = {round(lv, 2)}\")"
      ],
      "execution_count": null,
      "outputs": [
        {
          "output_type": "stream",
          "name": "stdout",
          "text": [
            "Loss Train = 19.49, Loss Validation = 34.23\n"
          ]
        }
      ]
    },
    {
      "cell_type": "code",
      "metadata": {
        "colab": {
          "base_uri": "https://localhost:8080/"
        },
        "id": "wSkiV07QPJ5I",
        "outputId": "3f32d313-64e5-4ed9-c893-8746de546771"
      },
      "source": [
        "from sklearn.linear_model import Lasso\n",
        "linear_model = Lasso()\n",
        "linear_model.fit(x_train, y_train)\n",
        "\n",
        "y_ptrain = linear_model.predict(x_train)\n",
        "y_pval  = linear_model.predict(x_val)\n",
        "\n",
        "lt = mean_squared_error(y_train, y_ptrain)\n",
        "lv = mean_squared_error(y_val, y_pval)\n",
        "\n",
        "print(f\"Loss Train = {round(lt, 2)}, Loss Validation = {round(lv, 2)}\")"
      ],
      "execution_count": null,
      "outputs": [
        {
          "output_type": "stream",
          "name": "stdout",
          "text": [
            "Loss Train = 24.09, Loss Validation = 41.7\n"
          ]
        }
      ]
    },
    {
      "cell_type": "code",
      "metadata": {
        "colab": {
          "base_uri": "https://localhost:8080/"
        },
        "id": "llxqicCePMhQ",
        "outputId": "f641db7d-5e67-4507-e844-8780bc630a9e"
      },
      "source": [
        "from sklearn.ensemble import GradientBoostingRegressor\n",
        "linear_model = GradientBoostingRegressor()\n",
        "linear_model.fit(x_train, y_train)\n",
        "\n",
        "y_ptrain = linear_model.predict(x_train)\n",
        "y_pval  = linear_model.predict(x_val)\n",
        "\n",
        "lt = mean_squared_error(y_train, y_ptrain)\n",
        "lv = mean_squared_error(y_val, y_pval)\n",
        "\n",
        "print(f\"Loss Train = {round(lt, 2)}, Loss Validation = {round(lv, 2)}\")"
      ],
      "execution_count": null,
      "outputs": [
        {
          "output_type": "stream",
          "name": "stdout",
          "text": [
            "Loss Train = 1.53, Loss Validation = 17.92\n"
          ]
        }
      ]
    },
    {
      "cell_type": "markdown",
      "metadata": {
        "id": "7ub9Mw2PRfPv"
      },
      "source": [
        "# Decision Tree Classification Problem"
      ]
    },
    {
      "cell_type": "markdown",
      "metadata": {
        "id": "1cTKFW86RlGL"
      },
      "source": [
        "## Dataset\n",
        "<h4>Data is taken from sklearn.datasets, the data is classification of images to recognize which digit from <i>(0 - 9)</i> is present in the image. </h4>\n",
        "\n",
        "<h4> The image is a <i> 8 x 8 </i> pixels taken as a vector with 64 features. The class are from <i> (0 - 9).</i> Total samples 1797 </h4>"
      ]
    },
    {
      "cell_type": "code",
      "metadata": {
        "colab": {
          "base_uri": "https://localhost:8080/"
        },
        "id": "kg5Bx70nQ6v4",
        "outputId": "d45dd17b-2f9e-485b-82a6-e63a493f5317"
      },
      "source": [
        "from sklearn.datasets import load_digits\n",
        "from sklearn.model_selection import train_test_split\n",
        "digits = load_digits()\n",
        "\n",
        "data, labels = digits.data, digits.target\n",
        "print(data.shape, labels.shape)"
      ],
      "execution_count": null,
      "outputs": [
        {
          "output_type": "stream",
          "name": "stdout",
          "text": [
            "(1797, 64) (1797,)\n"
          ]
        }
      ]
    },
    {
      "cell_type": "code",
      "metadata": {
        "colab": {
          "base_uri": "https://localhost:8080/"
        },
        "id": "enJRsrSoR4w_",
        "outputId": "399a01dd-a56b-40b0-9d15-7768af09e4e6"
      },
      "source": [
        "x_train, x_val, y_train, y_val = train_test_split(data, labels, stratify = labels, random_state = 0, test_size = 0.2)\n",
        "print(x_train.shape, y_train.shape)"
      ],
      "execution_count": null,
      "outputs": [
        {
          "output_type": "stream",
          "name": "stdout",
          "text": [
            "(1437, 64) (1437,)\n"
          ]
        }
      ]
    },
    {
      "cell_type": "markdown",
      "metadata": {
        "id": "NjXexe-8R_ON"
      },
      "source": [
        "## Model Building and Testing"
      ]
    },
    {
      "cell_type": "code",
      "metadata": {
        "id": "7Hw5flviR6o1"
      },
      "source": [
        "from sklearn.tree import DecisionTreeClassifier\n",
        "from sklearn import tree"
      ],
      "execution_count": null,
      "outputs": []
    },
    {
      "cell_type": "markdown",
      "metadata": {
        "id": "o1c-zG4GSGgP"
      },
      "source": [
        "## Criterion (Entropy)\n",
        "\n",
        "<h4> Creating various models depending on the depth going from <i> (1 - 20) </i> and picking the best model depending on the accuracy and loss, with criteria of splitting fixed to <i><b> Entropy.</b></i> </h4>"
      ]
    },
    {
      "cell_type": "code",
      "metadata": {
        "id": "wMhiexnQSCJk"
      },
      "source": [
        "loss = []\n",
        "accuracy = []\n",
        "best_depth, best_model, best_accuracy = None, None, 0\n",
        "\n",
        "for depth in range(1, 20):\n",
        "    model = DecisionTreeClassifier(criterion = 'entropy', random_state = 0, max_depth = depth, max_features = None)\n",
        "    model = model.fit(x_train, y_train)\n",
        "    y_pred = model.predict(x_val)\n",
        "\n",
        "    if best_accuracy < accuracy_score(y_pred, y_val):\n",
        "        best_depth = depth\n",
        "        best_model = copy.deepcopy(model)\n",
        "        best_accuracy = accuracy_score(y_pred, y_val)\n",
        "        \n",
        "    loss.append(mean_squared_error(y_pred, y_val))\n",
        "    accuracy.append(accuracy_score(y_pred, y_val))"
      ],
      "execution_count": null,
      "outputs": []
    },
    {
      "cell_type": "code",
      "metadata": {
        "colab": {
          "base_uri": "https://localhost:8080/"
        },
        "id": "uoXa5RvwSIvP",
        "outputId": "74bcb616-beef-437b-c7ac-1cb5378f091f"
      },
      "source": [
        "print(f\"Depth = {best_depth}, Min Loss = {round(min(loss), 2)}, Max Accuracy = {round(max(accuracy), 2) * 100}%\")"
      ],
      "execution_count": null,
      "outputs": [
        {
          "output_type": "stream",
          "name": "stdout",
          "text": [
            "Depth = 7, Min Loss = 1.78, Max Accuracy = 86.0%\n"
          ]
        }
      ]
    },
    {
      "cell_type": "code",
      "metadata": {
        "colab": {
          "base_uri": "https://localhost:8080/",
          "height": 425
        },
        "id": "6v-9u2YRSPbD",
        "outputId": "6dcdace5-c0ff-4000-a579-a77ec6ba16f0"
      },
      "source": [
        "fig, ax1 = plt.subplots(figsize = (5, 4), dpi = 105)\n",
        "color = \"tab:red\"\n",
        "ax1.set_xlabel(\"Depth\")\n",
        "ax1.set_ylabel(\"Mean Squared Error\", color = color)\n",
        "ax1.plot(loss, '-o', color = color)\n",
        "ax1.tick_params(axis = 'y', labelcolor = color)\n",
        "ax2 = ax1.twinx()\n",
        "color = \"tab:blue\"\n",
        "ax2.set_ylabel(\"Accuracy\", color = color)\n",
        "ax2.plot(accuracy, '-o', color = color)\n",
        "ax2.tick_params(axis = 'y', labelcolor = color)\n",
        "fig.tight_layout()\n",
        "plt.show()"
      ],
      "execution_count": null,
      "outputs": [
        {
          "output_type": "display_data",
          "data": {
            "image/png": "[encoded data removed]",
            "text/plain": [
              "<Figure size 525x420 with 2 Axes>"
            ]
          },
          "metadata": {
            "needs_background": "light"
          }
        }
      ]
    },
    {
      "cell_type": "markdown",
      "metadata": {
        "id": "JTmviewfSczt"
      },
      "source": [
        "## Criterion (Gini)\n",
        "\n",
        "<h4> Creating various models depending on the depth going from <i> (1 - 20) </i> and picking the best model depending on the accuracy and loss, with criteria of splitting fixed to <i><b> Gini.</b></i> </h4>"
      ]
    },
    {
      "cell_type": "code",
      "metadata": {
        "id": "k89gyCC8SVNj"
      },
      "source": [
        "loss = []\n",
        "accuracy = []\n",
        "best_depth, best_model, best_accuracy = None, None, 0\n",
        "\n",
        "for depth in range(1, 20):\n",
        "    model = DecisionTreeClassifier(criterion = 'gini', random_state = 0, max_depth = depth, max_features = None)\n",
        "    model = model.fit(x_train, y_train)\n",
        "    y_pred = model.predict(x_val)\n",
        "\n",
        "    if best_accuracy < accuracy_score(y_pred, y_val):\n",
        "        best_depth = depth\n",
        "        best_model = copy.deepcopy(model)\n",
        "        best_accuracy = accuracy_score(y_pred, y_val)\n",
        "        \n",
        "    loss.append(mean_squared_error(y_pred, y_val))\n",
        "    accuracy.append(accuracy_score(y_pred, y_val))"
      ],
      "execution_count": null,
      "outputs": []
    },
    {
      "cell_type": "code",
      "metadata": {
        "colab": {
          "base_uri": "https://localhost:8080/"
        },
        "id": "ACdJ277LSfOE",
        "outputId": "fd2ac065-1eb4-496b-a861-d12d2bcdf172"
      },
      "source": [
        "print(f\"Depth = {best_depth}, Min Loss = {round(min(loss), 2)}, Max Accuracy = {round(max(accuracy), 2) * 100}%\")"
      ],
      "execution_count": null,
      "outputs": [
        {
          "output_type": "stream",
          "name": "stdout",
          "text": [
            "Depth = 14, Min Loss = 2.35, Max Accuracy = 88.0%\n"
          ]
        }
      ]
    },
    {
      "cell_type": "code",
      "metadata": {
        "colab": {
          "base_uri": "https://localhost:8080/",
          "height": 425
        },
        "id": "jqL8w4DZSi3M",
        "outputId": "b6eca527-ae69-43dd-a10b-80371471aa82"
      },
      "source": [
        "fig, ax1 = plt.subplots(figsize = (5, 4), dpi = 105)\n",
        "color = \"tab:red\"\n",
        "ax1.set_xlabel(\"Depth\")\n",
        "ax1.set_ylabel(\"Mean Squared Error\", color = color)\n",
        "ax1.plot(loss, '-o', color = color)\n",
        "ax1.tick_params(axis = 'y', labelcolor = color)\n",
        "ax2 = ax1.twinx()\n",
        "color = \"tab:blue\"\n",
        "ax2.set_ylabel(\"Accuracy\", color = color)\n",
        "ax2.plot(accuracy, '-o', color = color)\n",
        "ax2.tick_params(axis = 'y', labelcolor = color)\n",
        "fig.tight_layout()\n",
        "plt.show()"
      ],
      "execution_count": null,
      "outputs": [
        {
          "output_type": "display_data",
          "data": {
            "image/png": "[encoded data removed]",
            "text/plain": [
              "<Figure size 525x420 with 2 Axes>"
            ]
          },
          "metadata": {
            "needs_background": "light"
          }
        }
      ]
    },
    {
      "cell_type": "markdown",
      "metadata": {
        "id": "j-MKf8jDS1cf"
      },
      "source": [
        "## Checking with other Algorithms\n",
        "1. Linear Regression\n",
        "2. Ridge\n",
        "3. Lasso\n",
        "4. GradientBoostingRegressor"
      ]
    },
    {
      "cell_type": "code",
      "metadata": {
        "colab": {
          "base_uri": "https://localhost:8080/"
        },
        "id": "OiNBr2AwSp5M",
        "outputId": "651a54a2-2935-4a48-b03a-4b6e3696767a"
      },
      "source": [
        "from sklearn.linear_model import LinearRegression\n",
        "linear_model = LinearRegression()\n",
        "linear_model.fit(x_train, y_train)\n",
        "\n",
        "y_ptrain = linear_model.predict(x_train)\n",
        "y_pval  = linear_model.predict(x_val)\n",
        "\n",
        "lt = mean_squared_error(y_train, y_ptrain)\n",
        "lv = mean_squared_error(y_val, y_pval)\n",
        "\n",
        "print(f\"Loss Train = {round(lt, 2)}, Loss Validation = {round(lv, 2)}\")"
      ],
      "execution_count": null,
      "outputs": [
        {
          "output_type": "stream",
          "name": "stdout",
          "text": [
            "Loss Train = 3.25, Loss Validation = 3.71\n"
          ]
        }
      ]
    },
    {
      "cell_type": "code",
      "metadata": {
        "colab": {
          "base_uri": "https://localhost:8080/"
        },
        "id": "N5YVbIBwS6RK",
        "outputId": "9085b77b-2599-4237-a687-65e229038863"
      },
      "source": [
        "from sklearn.linear_model import Ridge\n",
        "linear_model = Ridge()\n",
        "linear_model.fit(x_train, y_train)\n",
        "\n",
        "y_ptrain = linear_model.predict(x_train)\n",
        "y_pval  = linear_model.predict(x_val)\n",
        "\n",
        "lt = mean_squared_error(y_train, y_ptrain)\n",
        "lv = mean_squared_error(y_val, y_pval)\n",
        "\n",
        "print(f\"Loss Train = {round(lt, 2)}, Loss Validation = {round(lv, 2)}\")"
      ],
      "execution_count": null,
      "outputs": [
        {
          "output_type": "stream",
          "name": "stdout",
          "text": [
            "Loss Train = 3.25, Loss Validation = 3.68\n"
          ]
        }
      ]
    },
    {
      "cell_type": "code",
      "metadata": {
        "colab": {
          "base_uri": "https://localhost:8080/"
        },
        "id": "kAqwSCoPTAUC",
        "outputId": "82b3a83c-b1eb-4456-b406-60c4641327cd"
      },
      "source": [
        "from sklearn.linear_model import Lasso\n",
        "linear_model = Lasso()\n",
        "linear_model.fit(x_train, y_train)\n",
        "\n",
        "y_ptrain = linear_model.predict(x_train)\n",
        "y_pval  = linear_model.predict(x_val)\n",
        "\n",
        "lt = mean_squared_error(y_train, y_ptrain)\n",
        "lv = mean_squared_error(y_val, y_pval)\n",
        "\n",
        "print(f\"Loss Train = {round(lt, 2)}, Loss Validation = {round(lv, 2)}\")"
      ],
      "execution_count": null,
      "outputs": [
        {
          "output_type": "stream",
          "name": "stdout",
          "text": [
            "Loss Train = 4.38, Loss Validation = 4.61\n"
          ]
        }
      ]
    },
    {
      "cell_type": "code",
      "metadata": {
        "colab": {
          "base_uri": "https://localhost:8080/"
        },
        "id": "reHmLDjFTE5i",
        "outputId": "df5772f5-77fe-4760-c472-de3cba8672b1"
      },
      "source": [
        "from sklearn.ensemble import GradientBoostingRegressor\n",
        "linear_model = GradientBoostingRegressor()\n",
        "linear_model.fit(x_train, y_train)\n",
        "\n",
        "y_ptrain = linear_model.predict(x_train)\n",
        "y_pval  = linear_model.predict(x_val)\n",
        "\n",
        "lt = mean_squared_error(y_train, y_ptrain)\n",
        "lv = mean_squared_error(y_val, y_pval)\n",
        "\n",
        "print(f\"Loss Train = {round(lt, 2)}, Loss Validation = {round(lv, 2)}\")"
      ],
      "execution_count": null,
      "outputs": [
        {
          "output_type": "stream",
          "name": "stdout",
          "text": [
            "Loss Train = 0.71, Loss Validation = 1.58\n"
          ]
        }
      ]
    },
    {
      "cell_type": "markdown",
      "metadata": {
        "id": "F5YhMd7ZVggf"
      },
      "source": [
        "# Best Decision Tree Model"
      ]
    },
    {
      "cell_type": "code",
      "metadata": {
        "id": "uXsqU9dNTIKq"
      },
      "source": [
        "model = DecisionTreeClassifier(criterion = 'gini', random_state = 0, max_depth = 14, max_features = None)\n",
        "model = model.fit(x_train, y_train)\n",
        "y_pred_val = model.predict(x_val)\n",
        "y_pred_train = model.predict(x_train)"
      ],
      "execution_count": null,
      "outputs": []
    },
    {
      "cell_type": "markdown",
      "metadata": {
        "id": "AzHBe3mzVl5F"
      },
      "source": [
        "### Accuracy Score"
      ]
    },
    {
      "cell_type": "code",
      "metadata": {
        "colab": {
          "base_uri": "https://localhost:8080/"
        },
        "id": "Ibq4T0zyVj9c",
        "outputId": "17f0c75c-6a5d-44d2-e349-184821afa44f"
      },
      "source": [
        "v_acc = accuracy_score(y_pred_val, y_val)\n",
        "t_acc = accuracy_score(y_pred_train, y_train)\n",
        "\n",
        "print(f\"Train Accuracy = {t_acc * 100}%, Validaton Accuracy = {v_acc * 100}%\")"
      ],
      "execution_count": null,
      "outputs": [
        {
          "output_type": "stream",
          "name": "stdout",
          "text": [
            "Train Accuracy = 100.0%, Validaton Accuracy = 87.77777777777777%\n"
          ]
        }
      ]
    },
    {
      "cell_type": "markdown",
      "metadata": {
        "id": "lOBoaSrgVqrf"
      },
      "source": [
        "### Precison Score"
      ]
    },
    {
      "cell_type": "code",
      "metadata": {
        "colab": {
          "base_uri": "https://localhost:8080/"
        },
        "id": "yR3caWZKVp4D",
        "outputId": "9fa58c00-72c6-4853-8f7f-74f3da80f716"
      },
      "source": [
        "from sklearn.metrics import precision_score\n",
        "\n",
        "v_pre = precision_score(y_pred_val, y_val, average = 'weighted')\n",
        "t_pre = precision_score(y_pred_train, y_train, average = 'weighted')\n",
        "\n",
        "print(f\"Train [Precision] = {t_pre}, Validaton [Precision] = {v_pre}\")"
      ],
      "execution_count": null,
      "outputs": [
        {
          "output_type": "stream",
          "name": "stdout",
          "text": [
            "Train [Precision] = 1.0, Validaton [Precision] = 0.880396408313075\n"
          ]
        }
      ]
    },
    {
      "cell_type": "markdown",
      "metadata": {
        "id": "I8BX7GMQVyCk"
      },
      "source": [
        "### Recall Score"
      ]
    },
    {
      "cell_type": "code",
      "metadata": {
        "colab": {
          "base_uri": "https://localhost:8080/"
        },
        "id": "gtZ6ERH6VvdQ",
        "outputId": "d7c61931-b9c9-4a82-dffc-ca68b48027be"
      },
      "source": [
        "from sklearn.metrics import recall_score\n",
        "\n",
        "v_rec = recall_score(y_pred_val, y_val, average = 'weighted')\n",
        "t_rec = recall_score(y_pred_train, y_train, average = 'weighted')\n",
        "\n",
        "print(f\"Train [Recall] = {t_rec}, Validaton [Recall] = {v_rec}\")"
      ],
      "execution_count": null,
      "outputs": [
        {
          "output_type": "stream",
          "name": "stdout",
          "text": [
            "Train [Recall] = 1.0, Validaton [Recall] = 0.8777777777777778\n"
          ]
        }
      ]
    },
    {
      "cell_type": "markdown",
      "metadata": {
        "id": "Y5I8TmpuV2Tf"
      },
      "source": [
        "### F1 - Score"
      ]
    },
    {
      "cell_type": "code",
      "metadata": {
        "colab": {
          "base_uri": "https://localhost:8080/"
        },
        "id": "fZT3UlFVVz5o",
        "outputId": "4a1d7f5d-6ddc-4fad-9784-8edf60e2b5e5"
      },
      "source": [
        "from sklearn.metrics import f1_score\n",
        "\n",
        "v_f = f1_score(y_pred_val, y_val, average = 'weighted')\n",
        "t_f = f1_score(y_pred_train, y_train, average = 'weighted')\n",
        "\n",
        "print(f\"Train [F1 Score] = {t_f}, Validaton [F1 Score] = {v_f}\")"
      ],
      "execution_count": null,
      "outputs": [
        {
          "output_type": "stream",
          "name": "stdout",
          "text": [
            "Train [F1 Score] = 1.0, Validaton [F1 Score] = 0.8778872893727697\n"
          ]
        }
      ]
    },
    {
      "cell_type": "markdown",
      "metadata": {
        "id": "5oBTNQCGASr5"
      },
      "source": [
        "### Wine Dataset"
      ]
    },
    {
      "cell_type": "code",
      "metadata": {
        "colab": {
          "base_uri": "https://localhost:8080/"
        },
        "id": "--e_jHzj_1bh",
        "outputId": "6d161d88-5577-4dce-a9bb-2856c1ff5c62"
      },
      "source": [
        "from sklearn.datasets import load_wine\n",
        "wine = load_wine()\n",
        " \n",
        "data, labels = wine.data, wine.target\n",
        "print(data.shape, labels.shape)"
      ],
      "execution_count": null,
      "outputs": [
        {
          "output_type": "stream",
          "name": "stdout",
          "text": [
            "(178, 13) (178,)\n"
          ]
        }
      ]
    },
    {
      "cell_type": "code",
      "metadata": {
        "colab": {
          "base_uri": "https://localhost:8080/"
        },
        "id": "el7M9gzlAdfR",
        "outputId": "63ecf018-4c62-4990-c7be-fddb3c008edb"
      },
      "source": [
        "x_train, x_val, y_train, y_val = train_test_split(data, labels, stratify = labels, random_state = 0, test_size = 0.2)\n",
        "print(x_train.shape, y_train.shape)"
      ],
      "execution_count": null,
      "outputs": [
        {
          "output_type": "stream",
          "name": "stdout",
          "text": [
            "(142, 13) (142,)\n"
          ]
        }
      ]
    },
    {
      "cell_type": "code",
      "metadata": {
        "id": "UzCLkGjVApGO"
      },
      "source": [
        "loss = []\n",
        "accuracy = []\n",
        "best_depth, best_model, best_accuracy = None, None, 0\n",
        "\n",
        "for depth in range(1, 20):\n",
        "    model = DecisionTreeClassifier(criterion = 'entropy', random_state = 0, max_depth = depth, max_features = None)\n",
        "    model = model.fit(x_train, y_train)\n",
        "    y_pred = model.predict(x_val)\n",
        "\n",
        "    if best_accuracy < accuracy_score(y_pred, y_val):\n",
        "        best_depth = depth\n",
        "        best_model = copy.deepcopy(model)\n",
        "        best_accuracy = accuracy_score(y_pred, y_val)\n",
        "        \n",
        "    loss.append(mean_squared_error(y_pred, y_val))\n",
        "    accuracy.append(accuracy_score(y_pred, y_val))"
      ],
      "execution_count": null,
      "outputs": []
    },
    {
      "cell_type": "code",
      "metadata": {
        "colab": {
          "base_uri": "https://localhost:8080/"
        },
        "id": "c2jM7xOeAtpI",
        "outputId": "d527027f-c368-48d8-d12f-ab1f12aed85e"
      },
      "source": [
        "print(f\"Depth = {best_depth}, Min Loss = {round(min(loss), 2)}, Max Accuracy = {round(max(accuracy), 2) * 100}%\")"
      ],
      "execution_count": null,
      "outputs": [
        {
          "output_type": "stream",
          "name": "stdout",
          "text": [
            "Depth = 3, Min Loss = 0.03, Max Accuracy = 97.0%\n"
          ]
        }
      ]
    },
    {
      "cell_type": "code",
      "metadata": {
        "id": "kb_3MdLQAxDP"
      },
      "source": [
        "loss = []\n",
        "accuracy = []\n",
        "best_depth, best_model, best_accuracy = None, None, 0\n",
        "\n",
        "for depth in range(1, 20):\n",
        "    model = DecisionTreeClassifier(criterion = 'gini', random_state = 0, max_depth = depth, max_features = None)\n",
        "    model = model.fit(x_train, y_train)\n",
        "    y_pred = model.predict(x_val)\n",
        "\n",
        "    if best_accuracy < accuracy_score(y_pred, y_val):\n",
        "        best_depth = depth\n",
        "        best_model = copy.deepcopy(model)\n",
        "        best_accuracy = accuracy_score(y_pred, y_val)\n",
        "        \n",
        "    loss.append(mean_squared_error(y_pred, y_val))\n",
        "    accuracy.append(accuracy_score(y_pred, y_val))"
      ],
      "execution_count": null,
      "outputs": []
    },
    {
      "cell_type": "code",
      "metadata": {
        "colab": {
          "base_uri": "https://localhost:8080/"
        },
        "id": "0cs9vYTeA6x2",
        "outputId": "5a26a1b9-0f55-4546-ef36-bb64358c14e8"
      },
      "source": [
        "print(f\"Depth = {best_depth}, Min Loss = {round(min(loss), 2)}, Max Accuracy = {round(max(accuracy), 2) * 100}%\")"
      ],
      "execution_count": null,
      "outputs": [
        {
          "output_type": "stream",
          "name": "stdout",
          "text": [
            "Depth = 4, Min Loss = 0.03, Max Accuracy = 97.0%\n"
          ]
        }
      ]
    },
    {
      "cell_type": "markdown",
      "metadata": {
        "id": "0Prl-1IMBZ6F"
      },
      "source": [
        "### Breast Cancer Data"
      ]
    },
    {
      "cell_type": "code",
      "metadata": {
        "colab": {
          "base_uri": "https://localhost:8080/"
        },
        "id": "D_uZ5ddMA8IJ",
        "outputId": "c23a124e-fd8a-482c-b4a9-368f8e82a1bf"
      },
      "source": [
        "from sklearn.datasets import load_breast_cancer\n",
        "cancer = load_breast_cancer()\n",
        " \n",
        "data, labels = cancer.data, cancer.target\n",
        "print(data.shape, labels.shape)"
      ],
      "execution_count": null,
      "outputs": [
        {
          "output_type": "stream",
          "name": "stdout",
          "text": [
            "(569, 30) (569,)\n"
          ]
        }
      ]
    },
    {
      "cell_type": "code",
      "metadata": {
        "colab": {
          "base_uri": "https://localhost:8080/"
        },
        "id": "p-hl-szhBjon",
        "outputId": "a428bf0e-2249-4c34-8743-d00a936779c6"
      },
      "source": [
        "x_train, x_val, y_train, y_val = train_test_split(data, labels, stratify = labels, random_state = 0, test_size = 0.2)\n",
        "print(x_train.shape, y_train.shape)"
      ],
      "execution_count": null,
      "outputs": [
        {
          "output_type": "stream",
          "name": "stdout",
          "text": [
            "(455, 30) (455,)\n"
          ]
        }
      ]
    },
    {
      "cell_type": "code",
      "metadata": {
        "id": "I9yJ2ieuBl9R"
      },
      "source": [
        "loss = []\n",
        "accuracy = []\n",
        "best_depth, best_model, best_accuracy = None, None, 0\n",
        "\n",
        "for depth in range(1, 20):\n",
        "    model = DecisionTreeClassifier(criterion = 'entropy', random_state = 0, max_depth = depth, max_features = None)\n",
        "    model = model.fit(x_train, y_train)\n",
        "    y_pred = model.predict(x_val)\n",
        "\n",
        "    if best_accuracy < accuracy_score(y_pred, y_val):\n",
        "        best_depth = depth\n",
        "        best_model = copy.deepcopy(model)\n",
        "        best_accuracy = accuracy_score(y_pred, y_val)\n",
        "        \n",
        "    loss.append(mean_squared_error(y_pred, y_val))\n",
        "    accuracy.append(accuracy_score(y_pred, y_val))"
      ],
      "execution_count": null,
      "outputs": []
    },
    {
      "cell_type": "code",
      "metadata": {
        "colab": {
          "base_uri": "https://localhost:8080/"
        },
        "id": "A5Bnwo8CBoBX",
        "outputId": "955b6094-22d2-4f0d-b724-f25e7932f4dc"
      },
      "source": [
        "print(f\"Depth = {best_depth}, Min Loss = {round(min(loss), 2)}, Max Accuracy = {round(max(accuracy), 2) * 100}%\")"
      ],
      "execution_count": null,
      "outputs": [
        {
          "output_type": "stream",
          "name": "stdout",
          "text": [
            "Depth = 3, Min Loss = 0.08, Max Accuracy = 92.0%\n"
          ]
        }
      ]
    },
    {
      "cell_type": "code",
      "metadata": {
        "id": "BNC7Uw6pBqaq"
      },
      "source": [
        "loss = []\n",
        "accuracy = []\n",
        "best_depth, best_model, best_accuracy = None, None, 0\n",
        "\n",
        "for depth in range(1, 20):\n",
        "    model = DecisionTreeClassifier(criterion = 'gini', random_state = 0, max_depth = depth, max_features = None)\n",
        "    model = model.fit(x_train, y_train)\n",
        "    y_pred = model.predict(x_val)\n",
        "\n",
        "    if best_accuracy < accuracy_score(y_pred, y_val):\n",
        "        best_depth = depth\n",
        "        best_model = copy.deepcopy(model)\n",
        "        best_accuracy = accuracy_score(y_pred, y_val)\n",
        "        \n",
        "    loss.append(mean_squared_error(y_pred, y_val))\n",
        "    accuracy.append(accuracy_score(y_pred, y_val))"
      ],
      "execution_count": null,
      "outputs": []
    },
    {
      "cell_type": "code",
      "metadata": {
        "colab": {
          "base_uri": "https://localhost:8080/"
        },
        "id": "x-fp7nUkBylr",
        "outputId": "1edfd33d-e296-4f1d-c78b-b07feca2f1df"
      },
      "source": [
        "print(f\"Depth = {best_depth}, Min Loss = {round(min(loss), 2)}, Max Accuracy = {round(max(accuracy), 2) * 100}%\")"
      ],
      "execution_count": null,
      "outputs": [
        {
          "output_type": "stream",
          "name": "stdout",
          "text": [
            "Depth = 5, Min Loss = 0.05, Max Accuracy = 95.0%\n"
          ]
        }
      ]
    },
    {
      "cell_type": "code",
      "metadata": {
        "id": "VTR0DlY9B0SK"
      },
      "source": [
        ""
      ],
      "execution_count": null,
      "outputs": []
    }
  ]
}