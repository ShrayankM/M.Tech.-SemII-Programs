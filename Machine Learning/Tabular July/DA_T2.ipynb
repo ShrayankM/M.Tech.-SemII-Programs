{
  "nbformat": 4,
  "nbformat_minor": 0,
  "metadata": {
    "colab": {
      "name": "DA_T2.ipynb",
      "provenance": []
    },
    "kernelspec": {
      "name": "python3",
      "display_name": "Python 3"
    },
    "language_info": {
      "name": "python"
    }
  },
  "cells": [
    {
      "cell_type": "code",
      "metadata": {
        "id": "dwF25qJTYCoT"
      },
      "source": [
        "import numpy as np\n",
        "import pandas as pd\n",
        "import matplotlib.pyplot as plt\n",
        "import seaborn as sns\n",
        "from scipy import stats"
      ],
      "execution_count": 1,
      "outputs": []
    },
    {
      "cell_type": "code",
      "metadata": {
        "colab": {
          "base_uri": "https://localhost:8080/"
        },
        "id": "5alrdnKVaFT5",
        "outputId": "59b6dbf1-53d9-4706-8c77-62d93fb01930"
      },
      "source": [
        "1 - stats.poisson.cdf(k = 40, mu = 35)"
      ],
      "execution_count": 3,
      "outputs": [
        {
          "output_type": "execute_result",
          "data": {
            "text/plain": [
              "0.17506194534761654"
            ]
          },
          "metadata": {},
          "execution_count": 3
        }
      ]
    },
    {
      "cell_type": "markdown",
      "metadata": {
        "id": "tXXlIanqdfF5"
      },
      "source": [
        "Consider a random experiment of tossing a biased coin 6 times where the probability of getting a head is 0.6. If ‘getting a head’ is considered as ‘success’ then, the binomial distribution table will contain the probability of r successes for each possible value of r. Write a python code to Python to analyse the distribution(using SciPy) and plot the graph(using Matplotlib)."
      ]
    },
    {
      "cell_type": "code",
      "metadata": {
        "id": "rItiiY8ec60J"
      },
      "source": [
        "n = 6\n",
        "p = 0.6\n",
        "q = 0.4\n",
        "r = [i for i in range(7)]"
      ],
      "execution_count": 4,
      "outputs": []
    },
    {
      "cell_type": "code",
      "metadata": {
        "id": "oeuYiT4FdmTv"
      },
      "source": [
        "probabilities = [stats.binom.pmf(x, n, p) for x in r]"
      ],
      "execution_count": 5,
      "outputs": []
    },
    {
      "cell_type": "code",
      "metadata": {
        "colab": {
          "base_uri": "https://localhost:8080/"
        },
        "id": "JCmoREvMd5ZY",
        "outputId": "2c35fdfc-12af-4089-dd68-dfc6b3698708"
      },
      "source": [
        "probabilities"
      ],
      "execution_count": 6,
      "outputs": [
        {
          "output_type": "execute_result",
          "data": {
            "text/plain": [
              "[0.004096000000000002,\n",
              " 0.03686400000000005,\n",
              " 0.13824000000000003,\n",
              " 0.2764800000000001,\n",
              " 0.31104,\n",
              " 0.18662400000000007,\n",
              " 0.04665599999999999]"
            ]
          },
          "metadata": {},
          "execution_count": 6
        }
      ]
    },
    {
      "cell_type": "code",
      "metadata": {
        "colab": {
          "base_uri": "https://localhost:8080/",
          "height": 474
        },
        "id": "xFjQMhJId6bO",
        "outputId": "cb0342b9-3afe-4aaf-827e-14189a1ed4c1"
      },
      "source": [
        "plt.figure(figsize = (6, 4), dpi = 125)\n",
        "sns.barplot(x = r, y = probabilities);\n",
        "#plt.bar(r, probabilities)\n",
        "plt.xlabel(\"No. of Successes\");\n",
        "plt.ylabel(\"Probability\");"
      ],
      "execution_count": 11,
      "outputs": [
        {
          "output_type": "display_data",
          "data": {
            "image/png": "[encoded data removed]",
            "text/plain": [
              "<Figure size 750x500 with 1 Axes>"
            ]
          },
          "metadata": {
            "needs_background": "light"
          }
        }
      ]
    },
    {
      "cell_type": "markdown",
      "metadata": {
        "id": "VY-KzL0RfRQM"
      },
      "source": [
        "A student is applying for Masters course in 8 US Universities and believes that she has in each of the eight universities a constant and independent 0.42 probability of getting selected. Write code to answer the following questions:\n",
        "\n",
        "(a) What is the probability that she will get call from at least 3 universities?\n",
        "\n",
        "(b) What is the probability that she will get calls from exactly 4 universities?"
      ]
    },
    {
      "cell_type": "code",
      "metadata": {
        "id": "GG15y5fGethl"
      },
      "source": [
        "n = 8\n",
        "p = 0.42"
      ],
      "execution_count": 12,
      "outputs": []
    },
    {
      "cell_type": "code",
      "metadata": {
        "colab": {
          "base_uri": "https://localhost:8080/"
        },
        "id": "y-lgCsUKfVe1",
        "outputId": "a0fac345-33b2-4154-f77c-d1ad3e787fea"
      },
      "source": [
        "1 - stats.binom.cdf(k = 3, n = n, p = p)"
      ],
      "execution_count": 14,
      "outputs": [
        {
          "output_type": "execute_result",
          "data": {
            "text/plain": [
              "0.45265884031065606"
            ]
          },
          "metadata": {},
          "execution_count": 14
        }
      ]
    },
    {
      "cell_type": "code",
      "metadata": {
        "colab": {
          "base_uri": "https://localhost:8080/"
        },
        "id": "c4DjxgMVfY-6",
        "outputId": "38d032cc-8fc4-4ab0-af65-ba19bef3e39e"
      },
      "source": [
        "stats.binom.pmf(k = 4, n = n, p = p)"
      ],
      "execution_count": 15,
      "outputs": [
        {
          "output_type": "execute_result",
          "data": {
            "text/plain": [
              "0.2464944673605121"
            ]
          },
          "metadata": {},
          "execution_count": 15
        }
      ]
    },
    {
      "cell_type": "markdown",
      "metadata": {
        "id": "JQwsZjS-f4Zv"
      },
      "source": [
        "As per a survey on use of pesticides among 1000 farmers in grape farming for around 10 acres of grape farmland, it was found that the grape farmers spray 38 liters of pesticides in a week on an average with the corresponding standard deviation of 5 liters. Assume that the pesticide spray per week follows a normal distribution. Write code to answer the following questions:\n",
        "\n",
        "(a) What proportion of the farmers is spraying more than 50 liters of pesticide in a week?\n",
        "\n",
        "(b) What proportion of farmers is spraying less than 10 liters?\n",
        "\n",
        "(c) What proportion of farmers is spraying between 30 liters and 60 liters?"
      ]
    },
    {
      "cell_type": "code",
      "metadata": {
        "colab": {
          "base_uri": "https://localhost:8080/"
        },
        "id": "cLB70wY7fiQd",
        "outputId": "dc59b33e-ca4f-47e2-e5b8-cac3c3954b58"
      },
      "source": [
        "n = 1000\n",
        "mu = 38\n",
        "std = 5\n",
        "k = 50\n",
        "pr = 1 - stats.norm.cdf(k, loc = mu, scale = std)\n",
        "print(f\"Probability (P > 50) = {pr}\")"
      ],
      "execution_count": 22,
      "outputs": [
        {
          "output_type": "stream",
          "name": "stdout",
          "text": [
            "Probability (P > 50) = 0.008197535924596155\n"
          ]
        }
      ]
    },
    {
      "cell_type": "code",
      "metadata": {
        "colab": {
          "base_uri": "https://localhost:8080/"
        },
        "id": "frutygbEgQiW",
        "outputId": "4bef8203-c0d2-46ac-9e29-350bff52c7af"
      },
      "source": [
        "k = 10\n",
        "pr = stats.norm.cdf(k, loc = mu, scale = std)\n",
        "print(f\"Probability (P < 10) = {pr}\")"
      ],
      "execution_count": 23,
      "outputs": [
        {
          "output_type": "stream",
          "name": "stdout",
          "text": [
            "Probability (P < 10) = 1.0717590258310887e-08\n"
          ]
        }
      ]
    },
    {
      "cell_type": "code",
      "metadata": {
        "colab": {
          "base_uri": "https://localhost:8080/"
        },
        "id": "Esw5zKAYgeLJ",
        "outputId": "2cd5eec5-e595-45a1-a2cb-124e8b661c00"
      },
      "source": [
        "k1, k2 = 30, 60\n",
        "pr = stats.norm.cdf(k2, loc = mu, scale = std) - stats.norm.cdf(k1, loc = mu, scale = std)\n",
        "print(f\"Probability (30 < P < 60) is {pr}\")"
      ],
      "execution_count": 24,
      "outputs": [
        {
          "output_type": "stream",
          "name": "stdout",
          "text": [
            "Probability (30 < P < 60) is 0.9451952957565343\n"
          ]
        }
      ]
    },
    {
      "cell_type": "code",
      "metadata": {
        "id": "x29Fd8lNgo12"
      },
      "source": [
        ""
      ],
      "execution_count": null,
      "outputs": []
    }
  ]
}