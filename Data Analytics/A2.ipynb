{
  "nbformat": 4,
  "nbformat_minor": 0,
  "metadata": {
    "colab": {
      "name": "A2.ipynb",
      "provenance": [],
      "toc_visible": true
    },
    "kernelspec": {
      "name": "python3",
      "display_name": "Python 3"
    },
    "language_info": {
      "name": "python"
    }
  },
  "cells": [
    {
      "cell_type": "markdown",
      "metadata": {
        "id": "z3iqd7KF5xm6"
      },
      "source": [
        "# Data Analytics Assignment 2 (122022010 Shrayank Mistry)"
      ]
    },
    {
      "cell_type": "markdown",
      "metadata": {
        "id": "QMiSB1S-5vg9"
      },
      "source": [
        "# Packages"
      ]
    },
    {
      "cell_type": "code",
      "metadata": {
        "id": "2PGRpMkU5k8R"
      },
      "source": [
        "import numpy as np\n",
        "import pandas as pd\n",
        "import matplotlib.pyplot as plt\n",
        "from scipy import stats"
      ],
      "execution_count": 2,
      "outputs": []
    },
    {
      "cell_type": "markdown",
      "metadata": {
        "id": "A5iVDs_I63AG"
      },
      "source": [
        "## Question 1 \n",
        "#### The number of customer returns in a retail chain per day follows a Poisson distribution at a rate of 25 returns per day. Write Python code to answer the following questions:\n",
        "   * Calculate the probability that the number of returns exceeds 30 in a day.\n",
        "   \n",
        "\n"
      ]
    },
    {
      "cell_type": "code",
      "metadata": {
        "colab": {
          "base_uri": "https://localhost:8080/"
        },
        "id": "pENPcm2i5tTz",
        "outputId": "19e89a48-7d86-40cc-b27e-569596b0355d"
      },
      "source": [
        "p = 1 - stats.poisson.cdf(30, 25)\n",
        "print(f\"Probability (P > 30) is {p}\")"
      ],
      "execution_count": 27,
      "outputs": [
        {
          "output_type": "stream",
          "text": [
            "Probability (P > 30) is 0.1366911308473363\n"
          ],
          "name": "stdout"
        }
      ]
    },
    {
      "cell_type": "markdown",
      "metadata": {
        "id": "YJvcW_e-8lqp"
      },
      "source": [
        "* If the chance of fraudulent return is 0.05, calculate the probability that there will be at least 2 fraudulent returns in any given day."
      ]
    },
    {
      "cell_type": "code",
      "metadata": {
        "colab": {
          "base_uri": "https://localhost:8080/"
        },
        "id": "qEMpqjf28mOH",
        "outputId": "0392cb70-df2b-4633-a4be-95e4412e8721"
      },
      "source": [
        "# (n) number of fraudulent return in a day\n",
        "n = 25 * 0.05\n",
        "p = 1 - stats.poisson.cdf(2, n)\n",
        "print(f\"Probability (P >= 2) is {p}\")"
      ],
      "execution_count": 28,
      "outputs": [
        {
          "output_type": "stream",
          "text": [
            "Probability (P >= 2) is 0.13153233451754875\n"
          ],
          "name": "stdout"
        }
      ]
    },
    {
      "cell_type": "markdown",
      "metadata": {
        "id": "x9hmziod9vyB"
      },
      "source": [
        "## Question 2\n",
        "A student is applying for Masters course in 8 US Universities and believes that she has in each of the eight universities a constant and independent 0.42 probability of getting selected. Write code to answer the following questions:\n",
        "   * What is the probability that she will get call from at least 3 universities?"
      ]
    },
    {
      "cell_type": "code",
      "metadata": {
        "colab": {
          "base_uri": "https://localhost:8080/"
        },
        "id": "k7VrhQPx9OHz",
        "outputId": "d47a11f1-48ba-4211-e5e1-212475669af3"
      },
      "source": [
        "p = 0.42\n",
        "n = 8\n",
        "k = 3\n",
        "pr = 1 - stats.binom.cdf(k, n, p)\n",
        "print(f\"Probability (P >= 3) is {pr}\")"
      ],
      "execution_count": 29,
      "outputs": [
        {
          "output_type": "stream",
          "text": [
            "Probability (P >= 3) is 0.45265884031065606\n"
          ],
          "name": "stdout"
        }
      ]
    },
    {
      "cell_type": "markdown",
      "metadata": {
        "id": "RI0VTXLG-Ysr"
      },
      "source": [
        "   * What is the probability that she will get calls from exactly 4 universities?"
      ]
    },
    {
      "cell_type": "code",
      "metadata": {
        "colab": {
          "base_uri": "https://localhost:8080/"
        },
        "id": "YjL1OAUs-S0k",
        "outputId": "1b7cbcc4-719d-44d3-e6ee-9ce191383281"
      },
      "source": [
        "k = 4\n",
        "pr = stats.binom.pmf(k, n, p)\n",
        "print(f\"Probability (P = 4) is {pr}\")"
      ],
      "execution_count": 30,
      "outputs": [
        {
          "output_type": "stream",
          "text": [
            "Probability (P = 4) is 0.2464944673605121\n"
          ],
          "name": "stdout"
        }
      ]
    },
    {
      "cell_type": "markdown",
      "metadata": {
        "id": "IKeQ15S8-pD3"
      },
      "source": [
        "## Question 3\n",
        "The time-of-failure of a machine follows exponential distribution with mean time between failures (MTBF) estimated to be 85 hrs. Write code to answer the following questions:\n",
        "   * Calculate the probability that the system will fail before 85 hrs."
      ]
    },
    {
      "cell_type": "code",
      "metadata": {
        "colab": {
          "base_uri": "https://localhost:8080/"
        },
        "id": "v9xUK6cq-eXz",
        "outputId": "2a404698-33fb-4ecd-89b0-6eea9d46b607"
      },
      "source": [
        "p = stats.expon.cdf(85, loc = 1/85, scale = 85)\n",
        "print(f\"Probability (P < 85) is {p}\")"
      ],
      "execution_count": 31,
      "outputs": [
        {
          "output_type": "stream",
          "text": [
            "Probability (P < 85) is 0.6320696377349755\n"
          ],
          "name": "stdout"
        }
      ]
    },
    {
      "cell_type": "markdown",
      "metadata": {
        "id": "3peFFwN8_VKY"
      },
      "source": [
        "   * Calculate the probability that it will not fail up to 150 hrs."
      ]
    },
    {
      "cell_type": "code",
      "metadata": {
        "colab": {
          "base_uri": "https://localhost:8080/"
        },
        "id": "aL_3Sr1m_EYF",
        "outputId": "65f6f2f1-ba65-4fcb-8ed0-3a63f1d34c2f"
      },
      "source": [
        "p = 1 - stats.expon.cdf(150, loc = 1/85, scale = 85)\n",
        "print(f\"Probability (P >= 150) is {p}\")"
      ],
      "execution_count": 33,
      "outputs": [
        {
          "output_type": "stream",
          "text": [
            "Probability (P >= 150) is 0.17126084522766882\n"
          ],
          "name": "stdout"
        }
      ]
    },
    {
      "cell_type": "markdown",
      "metadata": {
        "id": "EtP0xMlL_q3J"
      },
      "source": [
        "## Question 4 \n",
        "As per a survey on use of pesticides among 1000 farmers in grape farming for around 10 acres of grape farmland, it was found that the grape farmers spray 38 liters of pesticides in a week on an average with the corresponding standard deviation of 5 liters. Assume that the pesticide spray per week follows a normal distribution. Write code to answer the following questions:\n",
        "  * What proportion of the farmers is spraying more than 50 liters of pesticide in a week?"
      ]
    },
    {
      "cell_type": "code",
      "metadata": {
        "colab": {
          "base_uri": "https://localhost:8080/"
        },
        "id": "GUoDXzJV_mm9",
        "outputId": "48b52bd9-0c63-48b0-e0f9-20eaa6114677"
      },
      "source": [
        "N = 1000\n",
        "p_mean = 38\n",
        "p_std = 5\n",
        "k = 50\n",
        "pr = 1 - stats.norm.cdf(k, loc = p_mean, scale = p_std)\n",
        "print(f\"Probability (P > 50) is {pr}\")"
      ],
      "execution_count": 34,
      "outputs": [
        {
          "output_type": "stream",
          "text": [
            "Probability (P > 50) is 0.008197535924596155\n"
          ],
          "name": "stdout"
        }
      ]
    },
    {
      "cell_type": "markdown",
      "metadata": {
        "id": "tHmfplZGAokq"
      },
      "source": [
        "   * What proportion of farmers is spraying less than 10 liters?"
      ]
    },
    {
      "cell_type": "code",
      "metadata": {
        "colab": {
          "base_uri": "https://localhost:8080/"
        },
        "id": "RgqeO3DAASS1",
        "outputId": "2bc44f5c-bbb7-45f2-909e-71a253c9452a"
      },
      "source": [
        "k = 10\n",
        "p = stats.norm.cdf(k, loc = p_mean, scale = p_std)\n",
        "print(f\"Probability (P < 10) is {p}\")"
      ],
      "execution_count": 36,
      "outputs": [
        {
          "output_type": "stream",
          "text": [
            "Probability (P < 10) is 1.0717590258310887e-08\n"
          ],
          "name": "stdout"
        }
      ]
    },
    {
      "cell_type": "markdown",
      "metadata": {
        "id": "kdGIG_7dBd16"
      },
      "source": [
        "  * What proportion of farmers is spraying between 30 liters and 60 liters?"
      ]
    },
    {
      "cell_type": "code",
      "metadata": {
        "colab": {
          "base_uri": "https://localhost:8080/"
        },
        "id": "MekkgZc-AtnA",
        "outputId": "982149d5-0cee-4c3f-ea25-138ac2f6f11d"
      },
      "source": [
        "k1, k2 = 30, 60\n",
        "pr = stats.norm.cdf(k2, loc = p_mean, scale = p_std) - stats.norm.cdf(k1, loc = p_mean, scale = p_std)\n",
        "print(f\"Probability (30 < P < 60) is {pr}\")"
      ],
      "execution_count": 37,
      "outputs": [
        {
          "output_type": "stream",
          "text": [
            "Probability (30 < P < 60) is 0.9451952957565343\n"
          ],
          "name": "stdout"
        }
      ]
    },
    {
      "cell_type": "code",
      "metadata": {
        "id": "6IL1M925BGDA"
      },
      "source": [
        ""
      ],
      "execution_count": null,
      "outputs": []
    }
  ]
}