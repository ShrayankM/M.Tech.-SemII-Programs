{
  "nbformat": 4,
  "nbformat_minor": 0,
  "metadata": {
    "colab": {
      "name": "DataAnalytics_LinearRegression.ipynb",
      "provenance": []
    },
    "kernelspec": {
      "name": "python3",
      "display_name": "Python 3"
    },
    "language_info": {
      "name": "python"
    }
  },
  "cells": [
    {
      "cell_type": "code",
      "metadata": {
        "id": "YAIwi3bmM2gb"
      },
      "source": [
        "import numpy as np\n",
        "import pandas as pd\n",
        "import matplotlib.pyplot as plt\n",
        "import seaborn as sns"
      ],
      "execution_count": null,
      "outputs": []
    },
    {
      "cell_type": "markdown",
      "metadata": {
        "id": "7hD5ia5XOkTh"
      },
      "source": [
        "# Simple Linear Regression"
      ]
    },
    {
      "cell_type": "code",
      "metadata": {
        "id": "nFsZHjWfNDeQ"
      },
      "source": [
        "df = pd.read_csv('MBA Salary.csv')"
      ],
      "execution_count": null,
      "outputs": []
    },
    {
      "cell_type": "code",
      "metadata": {
        "colab": {
          "base_uri": "https://localhost:8080/"
        },
        "id": "Xw2tO3y_O0BQ",
        "outputId": "91947311-5423-4851-c293-e213b147f3e7"
      },
      "source": [
        "df.info()"
      ],
      "execution_count": null,
      "outputs": [
        {
          "output_type": "stream",
          "name": "stdout",
          "text": [
            "<class 'pandas.core.frame.DataFrame'>\n",
            "RangeIndex: 50 entries, 0 to 49\n",
            "Data columns (total 3 columns):\n",
            " #   Column                  Non-Null Count  Dtype  \n",
            "---  ------                  --------------  -----  \n",
            " 0   S. No.                  50 non-null     int64  \n",
            " 1   Percentage in Grade 10  50 non-null     float64\n",
            " 2   Salary                  50 non-null     int64  \n",
            "dtypes: float64(1), int64(2)\n",
            "memory usage: 1.3 KB\n"
          ]
        }
      ]
    },
    {
      "cell_type": "code",
      "metadata": {
        "colab": {
          "base_uri": "https://localhost:8080/",
          "height": 202
        },
        "id": "RrcDugb4O0sc",
        "outputId": "d17c5f05-c8bf-4e04-cbd5-698edc9f05d8"
      },
      "source": [
        "df.head(5)"
      ],
      "execution_count": null,
      "outputs": [
        {
          "output_type": "execute_result",
          "data": {
            "text/html": [
              "<div>\n",
              "<style scoped>\n",
              "    .dataframe tbody tr th:only-of-type {\n",
              "        vertical-align: middle;\n",
              "    }\n",
              "\n",
              "    .dataframe tbody tr th {\n",
              "        vertical-align: top;\n",
              "    }\n",
              "\n",
              "    .dataframe thead th {\n",
              "        text-align: right;\n",
              "    }\n",
              "</style>\n",
              "<table border=\"1\" class=\"dataframe\">\n",
              "  <thead>\n",
              "    <tr style=\"text-align: right;\">\n",
              "      <th></th>\n",
              "      <th>S. No.</th>\n",
              "      <th>Percentage in Grade 10</th>\n",
              "      <th>Salary</th>\n",
              "    </tr>\n",
              "  </thead>\n",
              "  <tbody>\n",
              "    <tr>\n",
              "      <th>0</th>\n",
              "      <td>1</td>\n",
              "      <td>62.00</td>\n",
              "      <td>270000</td>\n",
              "    </tr>\n",
              "    <tr>\n",
              "      <th>1</th>\n",
              "      <td>2</td>\n",
              "      <td>76.33</td>\n",
              "      <td>200000</td>\n",
              "    </tr>\n",
              "    <tr>\n",
              "      <th>2</th>\n",
              "      <td>3</td>\n",
              "      <td>72.00</td>\n",
              "      <td>240000</td>\n",
              "    </tr>\n",
              "    <tr>\n",
              "      <th>3</th>\n",
              "      <td>4</td>\n",
              "      <td>60.00</td>\n",
              "      <td>250000</td>\n",
              "    </tr>\n",
              "    <tr>\n",
              "      <th>4</th>\n",
              "      <td>5</td>\n",
              "      <td>61.00</td>\n",
              "      <td>180000</td>\n",
              "    </tr>\n",
              "  </tbody>\n",
              "</table>\n",
              "</div>"
            ],
            "text/plain": [
              "   S. No.  Percentage in Grade 10  Salary\n",
              "0       1                   62.00  270000\n",
              "1       2                   76.33  200000\n",
              "2       3                   72.00  240000\n",
              "3       4                   60.00  250000\n",
              "4       5                   61.00  180000"
            ]
          },
          "metadata": {},
          "execution_count": 4
        }
      ]
    },
    {
      "cell_type": "code",
      "metadata": {
        "id": "afwZ280pO2PF",
        "colab": {
          "base_uri": "https://localhost:8080/"
        },
        "outputId": "90148a76-2127-4a15-a824-299238482cf2"
      },
      "source": [
        "# Adding a constant in equation (y = B(1)x + B(0) + E) E-epsilon (error)\n",
        "\n",
        "import statsmodels.api as sm\n",
        "x = sm.add_constant(df['Percentage in Grade 10'])\n",
        "y = df['Salary']"
      ],
      "execution_count": null,
      "outputs": [
        {
          "output_type": "stream",
          "name": "stderr",
          "text": [
            "/usr/local/lib/python3.7/dist-packages/statsmodels/tools/_testing.py:19: FutureWarning: pandas.util.testing is deprecated. Use the functions in the public API at pandas.testing instead.\n",
            "  import pandas.util.testing as tm\n"
          ]
        }
      ]
    },
    {
      "cell_type": "code",
      "metadata": {
        "colab": {
          "base_uri": "https://localhost:8080/",
          "height": 141
        },
        "id": "wDxhkrB6PBbQ",
        "outputId": "f54fb837-afd6-4bd0-a057-0d30942352b5"
      },
      "source": [
        "x.head(3)"
      ],
      "execution_count": null,
      "outputs": [
        {
          "output_type": "execute_result",
          "data": {
            "text/html": [
              "<div>\n",
              "<style scoped>\n",
              "    .dataframe tbody tr th:only-of-type {\n",
              "        vertical-align: middle;\n",
              "    }\n",
              "\n",
              "    .dataframe tbody tr th {\n",
              "        vertical-align: top;\n",
              "    }\n",
              "\n",
              "    .dataframe thead th {\n",
              "        text-align: right;\n",
              "    }\n",
              "</style>\n",
              "<table border=\"1\" class=\"dataframe\">\n",
              "  <thead>\n",
              "    <tr style=\"text-align: right;\">\n",
              "      <th></th>\n",
              "      <th>const</th>\n",
              "      <th>Percentage in Grade 10</th>\n",
              "    </tr>\n",
              "  </thead>\n",
              "  <tbody>\n",
              "    <tr>\n",
              "      <th>0</th>\n",
              "      <td>1.0</td>\n",
              "      <td>62.00</td>\n",
              "    </tr>\n",
              "    <tr>\n",
              "      <th>1</th>\n",
              "      <td>1.0</td>\n",
              "      <td>76.33</td>\n",
              "    </tr>\n",
              "    <tr>\n",
              "      <th>2</th>\n",
              "      <td>1.0</td>\n",
              "      <td>72.00</td>\n",
              "    </tr>\n",
              "  </tbody>\n",
              "</table>\n",
              "</div>"
            ],
            "text/plain": [
              "   const  Percentage in Grade 10\n",
              "0    1.0                   62.00\n",
              "1    1.0                   76.33\n",
              "2    1.0                   72.00"
            ]
          },
          "metadata": {},
          "execution_count": 6
        }
      ]
    },
    {
      "cell_type": "code",
      "metadata": {
        "colab": {
          "base_uri": "https://localhost:8080/"
        },
        "id": "rEf2iGQzPN0G",
        "outputId": "d324fcb4-b258-4e2b-c002-b242f47e8ef7"
      },
      "source": [
        "y.head(3)"
      ],
      "execution_count": null,
      "outputs": [
        {
          "output_type": "execute_result",
          "data": {
            "text/plain": [
              "0    270000\n",
              "1    200000\n",
              "2    240000\n",
              "Name: Salary, dtype: int64"
            ]
          },
          "metadata": {},
          "execution_count": 7
        }
      ]
    },
    {
      "cell_type": "code",
      "metadata": {
        "id": "uyjlLBKlPcaE"
      },
      "source": [
        "from sklearn.model_selection import train_test_split"
      ],
      "execution_count": null,
      "outputs": []
    },
    {
      "cell_type": "code",
      "metadata": {
        "id": "1fz-9LFmP1OS"
      },
      "source": [
        "x_train, x_test, y_train, y_test = train_test_split(x, y, test_size = 0.2, random_state = 100)"
      ],
      "execution_count": null,
      "outputs": []
    },
    {
      "cell_type": "code",
      "metadata": {
        "id": "1dRP7W1uQAV7"
      },
      "source": [
        "model = sm.OLS(y_train, x_train).fit()"
      ],
      "execution_count": null,
      "outputs": []
    },
    {
      "cell_type": "code",
      "metadata": {
        "colab": {
          "base_uri": "https://localhost:8080/"
        },
        "id": "9wgx3xYfQMSP",
        "outputId": "710e7417-5bce-4c79-e389-44fcd001d125"
      },
      "source": [
        "model.params"
      ],
      "execution_count": null,
      "outputs": [
        {
          "output_type": "execute_result",
          "data": {
            "text/plain": [
              "const                     30587.285652\n",
              "Percentage in Grade 10     3560.587383\n",
              "dtype: float64"
            ]
          },
          "metadata": {},
          "execution_count": 11
        }
      ]
    },
    {
      "cell_type": "markdown",
      "metadata": {
        "id": "ViBsRYi1RHqu"
      },
      "source": [
        "<p>Mba salary = 30587 + 3560 * (percentage in grade 10)</br>\n",
        "<h4><b><i> Model Diagnostic </i></b></h4>\n",
        "1. Co-efficient of determination (R-squared) <br>\n",
        "2. Hypothesis test for regression co-efficient <br>\n",
        "3. Analysis of variance for overall model validity <br>\n",
        "4. Residual analysis to validate the regression model assumptions <br>\n",
        "5. Outlier analysis</p>\n"
      ]
    },
    {
      "cell_type": "markdown",
      "metadata": {
        "id": "dc3vAAtbSLkg"
      },
      "source": [
        "## 1. Co-efficient of determination (R-squared)\n",
        "<p> Higher value of R-square means better fit. Value lies between (0 - 1). Measures the variation in Y</p>"
      ]
    },
    {
      "cell_type": "code",
      "metadata": {
        "colab": {
          "base_uri": "https://localhost:8080/",
          "height": 296
        },
        "id": "t25lacHAQPE5",
        "outputId": "7ab5fcca-367f-4ccc-945b-fa576bc2bfa6"
      },
      "source": [
        "model.summary2()"
      ],
      "execution_count": null,
      "outputs": [
        {
          "output_type": "execute_result",
          "data": {
            "text/html": [
              "<table class=\"simpletable\">\n",
              "<tr>\n",
              "        <td>Model:</td>               <td>OLS</td>         <td>Adj. R-squared:</td>      <td>0.190</td>  \n",
              "</tr>\n",
              "<tr>\n",
              "  <td>Dependent Variable:</td>      <td>Salary</td>             <td>AIC:</td>          <td>1008.8680</td>\n",
              "</tr>\n",
              "<tr>\n",
              "         <td>Date:</td>        <td>2021-09-27 06:43</td>        <td>BIC:</td>          <td>1012.2458</td>\n",
              "</tr>\n",
              "<tr>\n",
              "   <td>No. Observations:</td>         <td>40</td>          <td>Log-Likelihood:</td>     <td>-502.43</td> \n",
              "</tr>\n",
              "<tr>\n",
              "       <td>Df Model:</td>              <td>1</td>           <td>F-statistic:</td>        <td>10.16</td>  \n",
              "</tr>\n",
              "<tr>\n",
              "     <td>Df Residuals:</td>           <td>38</td>        <td>Prob (F-statistic):</td>   <td>0.00287</td> \n",
              "</tr>\n",
              "<tr>\n",
              "      <td>R-squared:</td>            <td>0.211</td>            <td>Scale:</td>        <td>5.0121e+09</td>\n",
              "</tr>\n",
              "</table>\n",
              "<table class=\"simpletable\">\n",
              "<tr>\n",
              "             <td></td>               <th>Coef.</th>    <th>Std.Err.</th>     <th>t</th>    <th>P>|t|</th>    <th>[0.025</th>      <th>0.975]</th>   \n",
              "</tr>\n",
              "<tr>\n",
              "  <th>const</th>                  <td>30587.2857</td> <td>71869.4497</td> <td>0.4256</td> <td>0.6728</td> <td>-114904.8089</td> <td>176079.3802</td>\n",
              "</tr>\n",
              "<tr>\n",
              "  <th>Percentage in Grade 10</th>  <td>3560.5874</td>  <td>1116.9258</td> <td>3.1878</td> <td>0.0029</td>   <td>1299.4892</td>   <td>5821.6855</td> \n",
              "</tr>\n",
              "</table>\n",
              "<table class=\"simpletable\">\n",
              "<tr>\n",
              "     <td>Omnibus:</td>    <td>2.048</td>  <td>Durbin-Watson:</td>   <td>2.611</td>\n",
              "</tr>\n",
              "<tr>\n",
              "  <td>Prob(Omnibus):</td> <td>0.359</td> <td>Jarque-Bera (JB):</td> <td>1.724</td>\n",
              "</tr>\n",
              "<tr>\n",
              "       <td>Skew:</td>     <td>0.369</td>     <td>Prob(JB):</td>     <td>0.422</td>\n",
              "</tr>\n",
              "<tr>\n",
              "     <td>Kurtosis:</td>   <td>2.300</td>  <td>Condition No.:</td>    <td>413</td> \n",
              "</tr>\n",
              "</table>"
            ],
            "text/plain": [
              "<class 'statsmodels.iolib.summary2.Summary'>\n",
              "\"\"\"\n",
              "                          Results: Ordinary least squares\n",
              "===================================================================================\n",
              "Model:                    OLS                   Adj. R-squared:          0.190     \n",
              "Dependent Variable:       Salary                AIC:                     1008.8680 \n",
              "Date:                     2021-09-27 06:43      BIC:                     1012.2458 \n",
              "No. Observations:         40                    Log-Likelihood:          -502.43   \n",
              "Df Model:                 1                     F-statistic:             10.16     \n",
              "Df Residuals:             38                    Prob (F-statistic):      0.00287   \n",
              "R-squared:                0.211                 Scale:                   5.0121e+09\n",
              "-----------------------------------------------------------------------------------\n",
              "                         Coef.     Std.Err.    t    P>|t|     [0.025       0.975]  \n",
              "-----------------------------------------------------------------------------------\n",
              "const                  30587.2857 71869.4497 0.4256 0.6728 -114904.8089 176079.3802\n",
              "Percentage in Grade 10  3560.5874  1116.9258 3.1878 0.0029    1299.4892   5821.6855\n",
              "-----------------------------------------------------------------------------------\n",
              "Omnibus:                    2.048              Durbin-Watson:                 2.611\n",
              "Prob(Omnibus):              0.359              Jarque-Bera (JB):              1.724\n",
              "Skew:                       0.369              Prob(JB):                      0.422\n",
              "Kurtosis:                   2.300              Condition No.:                 413  \n",
              "===================================================================================\n",
              "\n",
              "\"\"\""
            ]
          },
          "metadata": {},
          "execution_count": 12
        }
      ]
    },
    {
      "cell_type": "markdown",
      "metadata": {
        "id": "Mkj81UCNT4td"
      },
      "source": [
        "## 2. Hypothesis test for regression co-efficient\n",
        "<p> Check P > |t| value if value less that significant value (0.05), if less then hypothesis true.</p>"
      ]
    },
    {
      "cell_type": "markdown",
      "metadata": {
        "id": "_JlpKPeBUm1U"
      },
      "source": [
        "## 3. Residual analysis to validate the regression model \n",
        "<p>\n",
        "1. Residuals are normally distributed.<br>\n",
        "2. Variance of residual is constant. (Homoscedasticity)<br>\n",
        "3. Functional form of regression is correctly specified.<br>\n",
        "4. There is no outliers</p>"
      ]
    },
    {
      "cell_type": "code",
      "metadata": {
        "id": "rdVgHJVwS_0v"
      },
      "source": [
        "residuals = model.resid"
      ],
      "execution_count": null,
      "outputs": []
    },
    {
      "cell_type": "code",
      "metadata": {
        "colab": {
          "base_uri": "https://localhost:8080/",
          "height": 283
        },
        "id": "CjIIVH65VPwI",
        "outputId": "0f898f48-5653-415f-9e26-bb63ce7b5a9a"
      },
      "source": [
        "probplot = sm.ProbPlot(residuals)\n",
        "probplot.ppplot(line = '45')\n",
        "plt.show()"
      ],
      "execution_count": null,
      "outputs": [
        {
          "output_type": "display_data",
          "data": {
            "image/png": "[encoded data removed]",
            "text/plain": [
              "<Figure size 432x288 with 1 Axes>"
            ]
          },
          "metadata": {
            "needs_background": "light"
          }
        }
      ]
    },
    {
      "cell_type": "markdown",
      "metadata": {
        "id": "l9nC-6R0Xbhv"
      },
      "source": [
        "variance of error is constant, variance of dependent variable is same for all data points (Homoscedasity)"
      ]
    },
    {
      "cell_type": "code",
      "metadata": {
        "id": "FFfmP0eAWDUK"
      },
      "source": [
        "def get_standardized_values(vals):\n",
        "    return (vals - vals.mean()) / vals.std()"
      ],
      "execution_count": null,
      "outputs": []
    },
    {
      "cell_type": "code",
      "metadata": {
        "colab": {
          "base_uri": "https://localhost:8080/",
          "height": 591
        },
        "id": "6OorfpzpWgGw",
        "outputId": "0e31b5dd-e3b4-4622-d0e0-48f849883bc9"
      },
      "source": [
        "x = get_standardized_values(model.fittedvalues)\n",
        "y = get_standardized_values(model.resid)\n",
        "\n",
        "plt.figure(figsize = (5, 5), dpi = 125)\n",
        "plt.scatter(x, y)\n",
        "plt.xlabel('Standardized Predicted values')\n",
        "plt.ylabel('Standardized Residuals')"
      ],
      "execution_count": null,
      "outputs": [
        {
          "output_type": "execute_result",
          "data": {
            "text/plain": [
              "Text(0, 0.5, 'Standardized Residuals')"
            ]
          },
          "metadata": {},
          "execution_count": 16
        },
        {
          "output_type": "display_data",
          "data": {
            "image/png": "[encoded data removed]",
            "text/plain": [
              "<Figure size 625x625 with 1 Axes>"
            ]
          },
          "metadata": {
            "needs_background": "light"
          }
        }
      ]
    },
    {
      "cell_type": "markdown",
      "metadata": {
        "id": "SLC7Dv661Z4k"
      },
      "source": [
        "### Outlier Analysis\n",
        "1. Z-Score - any observation with score > 3 or < -3 can be outlier\n",
        "2. Mahalanalobis Distance\n",
        "3. Cook's Distance\n",
        "4. Leverage Value"
      ]
    },
    {
      "cell_type": "code",
      "metadata": {
        "id": "1wpaHNRoXFUu"
      },
      "source": [
        "from scipy.stats import zscore"
      ],
      "execution_count": null,
      "outputs": []
    },
    {
      "cell_type": "code",
      "metadata": {
        "id": "53U69al-2FCi"
      },
      "source": [
        "df['z-score_salary'] = zscore(df['Salary']) "
      ],
      "execution_count": null,
      "outputs": []
    },
    {
      "cell_type": "code",
      "metadata": {
        "colab": {
          "base_uri": "https://localhost:8080/",
          "height": 48
        },
        "id": "kV3_FuNi2RVn",
        "outputId": "c1f77b97-931d-4c85-d1a6-115292d7f48b"
      },
      "source": [
        "df[(df['z-score_salary'] > 3) | (df['z-score_salary'] < -3)]"
      ],
      "execution_count": null,
      "outputs": [
        {
          "output_type": "execute_result",
          "data": {
            "text/html": [
              "<div>\n",
              "<style scoped>\n",
              "    .dataframe tbody tr th:only-of-type {\n",
              "        vertical-align: middle;\n",
              "    }\n",
              "\n",
              "    .dataframe tbody tr th {\n",
              "        vertical-align: top;\n",
              "    }\n",
              "\n",
              "    .dataframe thead th {\n",
              "        text-align: right;\n",
              "    }\n",
              "</style>\n",
              "<table border=\"1\" class=\"dataframe\">\n",
              "  <thead>\n",
              "    <tr style=\"text-align: right;\">\n",
              "      <th></th>\n",
              "      <th>S. No.</th>\n",
              "      <th>Percentage in Grade 10</th>\n",
              "      <th>Salary</th>\n",
              "      <th>z-score_salary</th>\n",
              "    </tr>\n",
              "  </thead>\n",
              "  <tbody>\n",
              "  </tbody>\n",
              "</table>\n",
              "</div>"
            ],
            "text/plain": [
              "Empty DataFrame\n",
              "Columns: [S. No., Percentage in Grade 10, Salary, z-score_salary]\n",
              "Index: []"
            ]
          },
          "metadata": {},
          "execution_count": 19
        }
      ]
    },
    {
      "cell_type": "markdown",
      "metadata": {
        "id": "BG0IaVkt3ICg"
      },
      "source": [
        "### Predicting for test data\n",
        "\n",
        "Measures MSE, RMSE, MASE"
      ]
    },
    {
      "cell_type": "code",
      "metadata": {
        "id": "s-EPL7zU4KZx"
      },
      "source": [
        "from sklearn.metrics import r2_score, mean_squared_error"
      ],
      "execution_count": null,
      "outputs": []
    },
    {
      "cell_type": "code",
      "metadata": {
        "id": "K-BuKoVk2bK7"
      },
      "source": [
        "y_pred = model.predict(x_test)"
      ],
      "execution_count": null,
      "outputs": []
    },
    {
      "cell_type": "code",
      "metadata": {
        "colab": {
          "base_uri": "https://localhost:8080/"
        },
        "id": "sCw9OtK-32Hi",
        "outputId": "316307ef-05b0-4827-b693-af325ac4bfb3"
      },
      "source": [
        "np.abs(r2_score(y_test, y_pred))   #15.6% variance in validation set"
      ],
      "execution_count": null,
      "outputs": [
        {
          "output_type": "execute_result",
          "data": {
            "text/plain": [
              "0.156645849742304"
            ]
          },
          "metadata": {},
          "execution_count": 22
        }
      ]
    },
    {
      "cell_type": "code",
      "metadata": {
        "colab": {
          "base_uri": "https://localhost:8080/"
        },
        "id": "G77kebeU4hWR",
        "outputId": "a436e899-2a92-4e09-d85c-0a1ce438d547"
      },
      "source": [
        "mean_squared_error(y_test, y_pred)"
      ],
      "execution_count": null,
      "outputs": [
        {
          "output_type": "execute_result",
          "data": {
            "text/plain": [
              "5396084152.419214"
            ]
          },
          "metadata": {},
          "execution_count": 23
        }
      ]
    },
    {
      "cell_type": "code",
      "metadata": {
        "colab": {
          "base_uri": "https://localhost:8080/"
        },
        "id": "QZkBnbFD4tWz",
        "outputId": "921499f5-b3d4-42b3-ca24-cbac2fc0cbb4"
      },
      "source": [
        "np.sqrt(mean_squared_error(y_test, y_pred))"
      ],
      "execution_count": null,
      "outputs": [
        {
          "output_type": "execute_result",
          "data": {
            "text/plain": [
              "73458.04348346895"
            ]
          },
          "metadata": {},
          "execution_count": 24
        }
      ]
    },
    {
      "cell_type": "markdown",
      "metadata": {
        "id": "yMlBP0o3AkbC"
      },
      "source": [
        "## Exam Portion DA\n",
        "1. Fundamentals of DA\n",
        "2. Pandas, Numpy, Plotting, (Some web scrappping beautiful soap)\n",
        "3. Probability and Statistics\n",
        "(Unit 5 Only Text analysis video)\n",
        "4. Linear Regression\n",
        "4. Logistic Regression and its analysis\n",
        "5. Decision Tree and Cluster Analysis"
      ]
    },
    {
      "cell_type": "code",
      "metadata": {
        "id": "7NozDtny41Pd"
      },
      "source": [
        ""
      ],
      "execution_count": null,
      "outputs": []
    }
  ]
}